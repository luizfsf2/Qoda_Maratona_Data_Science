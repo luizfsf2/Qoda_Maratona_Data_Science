{
 "cells": [
  {
   "cell_type": "markdown",
   "metadata": {
    "colab_type": "text",
    "id": "6hBUcAjdRilf"
   },
   "source": [
    "# **>>> Tratando Erros e Exceções**\n",
    "\n",
    "---\n",
    "\n",
    "Erros vão acontecer e é importante que você os preveja e trate-os antes de sua aparição.\n",
    "\n",
    "---\n",
    "\n",
    "### **>>> Erros Comuns**\n",
    "IOError: Se o arquivo não puder ser aberto/salvo.\n",
    "<br>ImportError: Se o python não encontra o módulo\n",
    "<br>ValueError: Operação recebe valor inadequado\n",
    "<br>KeyboardInterrupt: Quando usuário clica DELETE ou CTRL+C\n",
    "<br>EOFError: Quando o input não recebe nenhum dado\n",
    "<br>TypeError: Erro de tipo para operação"
   ]
  },
  {
   "cell_type": "code",
   "execution_count": 1,
   "metadata": {
    "colab": {},
    "colab_type": "code",
    "id": "Lz4nV2sET68N"
   },
   "outputs": [
    {
     "name": "stdin",
     "output_type": "stream",
     "text": [
      "Digite um número: 45\n"
     ]
    },
    {
     "ename": "TypeError",
     "evalue": "unsupported operand type(s) for /: 'str' and 'int'",
     "output_type": "error",
     "traceback": [
      "\u001b[1;31m---------------------------------------------------------------------------\u001b[0m",
      "\u001b[1;31mTypeError\u001b[0m                                 Traceback (most recent call last)",
      "\u001b[1;32m<ipython-input-1-443f9b26d416>\u001b[0m in \u001b[0;36m<module>\u001b[1;34m\u001b[0m\n\u001b[0;32m      1\u001b[0m \u001b[0mx\u001b[0m \u001b[1;33m=\u001b[0m \u001b[0minput\u001b[0m\u001b[1;33m(\u001b[0m\u001b[1;34m\"Digite um número:\"\u001b[0m\u001b[1;33m)\u001b[0m\u001b[1;33m\u001b[0m\u001b[1;33m\u001b[0m\u001b[0m\n\u001b[1;32m----> 2\u001b[1;33m \u001b[0mprint\u001b[0m\u001b[1;33m(\u001b[0m\u001b[0mx\u001b[0m\u001b[1;33m/\u001b[0m\u001b[1;36m1\u001b[0m\u001b[1;33m)\u001b[0m\u001b[1;33m\u001b[0m\u001b[1;33m\u001b[0m\u001b[0m\n\u001b[0m",
      "\u001b[1;31mTypeError\u001b[0m: unsupported operand type(s) for /: 'str' and 'int'"
     ]
    }
   ],
   "source": [
    "x = input(\"Digite um número:\")\n",
    "print(x/1)"
   ]
  },
  {
   "cell_type": "markdown",
   "metadata": {
    "colab_type": "text",
    "id": "VuFhiBwgRszZ"
   },
   "source": [
    "## **>>> Try / Except**\n",
    "\n",
    "---\n",
    "\n"
   ]
  },
  {
   "cell_type": "code",
   "execution_count": 2,
   "metadata": {
    "colab": {},
    "colab_type": "code",
    "id": "By73U-jbRedn"
   },
   "outputs": [
    {
     "name": "stdin",
     "output_type": "stream",
     "text": [
      "Digite um número: 31\n"
     ]
    },
    {
     "name": "stdout",
     "output_type": "stream",
     "text": [
      "Erro de tipo!\n"
     ]
    }
   ],
   "source": [
    "# Try = tentar\n",
    "# Except = Exceção\n",
    "\n",
    "try:\n",
    "    x = input(\"Digite um número:\")\n",
    "    print(x/1)\n",
    "except TypeError:\n",
    "    print(\"Erro de tipo!\")"
   ]
  },
  {
   "cell_type": "code",
   "execution_count": 4,
   "metadata": {
    "colab": {},
    "colab_type": "code",
    "id": "_7huXffaUq8F"
   },
   "outputs": [
    {
     "name": "stdin",
     "output_type": "stream",
     "text": [
      "Digite um número inteiro:  45.9\n"
     ]
    },
    {
     "name": "stdout",
     "output_type": "stream",
     "text": [
      "O valor digitado não é um inteiro. Tente novamente\n"
     ]
    },
    {
     "name": "stdin",
     "output_type": "stream",
     "text": [
      "Digite um número inteiro:  32\n"
     ]
    },
    {
     "name": "stdout",
     "output_type": "stream",
     "text": [
      "Dividindo 100 por 32 teremos 3\n"
     ]
    }
   ],
   "source": [
    "while True:\n",
    "    try:\n",
    "        x = int(input(\"Digite um número inteiro: \"))\n",
    "        print(f\"Dividindo 100 por {x} teremos {int(100/x)}\")\n",
    "        break\n",
    "    except ValueError:\n",
    "        print(\"O valor digitado não é um inteiro. Tente novamente\")  "
   ]
  },
  {
   "cell_type": "markdown",
   "metadata": {
    "colab_type": "text",
    "id": "HI3dzYdiRy17"
   },
   "source": [
    "## **>>> Else**\n",
    "\n",
    "---\n",
    "\n"
   ]
  },
  {
   "cell_type": "code",
   "execution_count": 5,
   "metadata": {
    "colab": {},
    "colab_type": "code",
    "id": "LMrrcdsOR5RN"
   },
   "outputs": [
    {
     "name": "stdin",
     "output_type": "stream",
     "text": [
      "Digite um número inteiro:  35.9\n"
     ]
    },
    {
     "name": "stdout",
     "output_type": "stream",
     "text": [
      "O valor digitado não é um inteiro. Tente novamente\n"
     ]
    }
   ],
   "source": [
    "try:\n",
    "    x = int(input(\"Digite um número inteiro: \"))\n",
    "    print(f\"Dividindo 100 por {x} teremos {int(100/x)}\")\n",
    "except ValueError:\n",
    "    print(\"O valor digitado não é um inteiro. Tente novamente\")  \n",
    "else:\n",
    "    print(\"Executado com sucesso!\")"
   ]
  },
  {
   "cell_type": "code",
   "execution_count": 6,
   "metadata": {},
   "outputs": [
    {
     "name": "stdin",
     "output_type": "stream",
     "text": [
      "Digite um número inteiro:  44\n"
     ]
    },
    {
     "name": "stdout",
     "output_type": "stream",
     "text": [
      "Dividindo 100 por 44 teremos 2\n",
      "Executado com sucesso!\n"
     ]
    }
   ],
   "source": [
    "try:\n",
    "    x = int(input(\"Digite um número inteiro: \"))\n",
    "    print(f\"Dividindo 100 por {x} teremos {int(100/x)}\")\n",
    "except ValueError:\n",
    "    print(\"O valor digitado não é um inteiro. Tente novamente\")  \n",
    "else:\n",
    "    print(\"Executado com sucesso!\")"
   ]
  },
  {
   "cell_type": "markdown",
   "metadata": {
    "colab_type": "text",
    "id": "x0lyFTZeR1Yp"
   },
   "source": [
    "## **>>> Finally**\n",
    "\n",
    "---\n",
    "\n"
   ]
  },
  {
   "cell_type": "code",
   "execution_count": 7,
   "metadata": {
    "colab": {},
    "colab_type": "code",
    "id": "KbqOPGnbR5tH"
   },
   "outputs": [
    {
     "name": "stdin",
     "output_type": "stream",
     "text": [
      "Digite um número inteiro:  81.3\n"
     ]
    },
    {
     "name": "stdout",
     "output_type": "stream",
     "text": [
      "O valor digitado não é um inteiro. Tente novamente\n",
      "O finally executa o bloco havendo ou não exceções!\n"
     ]
    },
    {
     "name": "stdin",
     "output_type": "stream",
     "text": [
      "Digite um número inteiro:  43\n"
     ]
    },
    {
     "name": "stdout",
     "output_type": "stream",
     "text": [
      "Dividindo 100 por 43 teremos 2\n",
      "O finally executa o bloco havendo ou não exceções!\n"
     ]
    }
   ],
   "source": [
    "while True:\n",
    "    try:\n",
    "        x = int(input(\"Digite um número inteiro: \"))\n",
    "        print(f\"Dividindo 100 por {x} teremos {int(100/x)}\")\n",
    "        break\n",
    "    except ValueError:\n",
    "        print(\"O valor digitado não é um inteiro. Tente novamente\")  \n",
    "    finally:\n",
    "        print(\"O finally executa o bloco havendo ou não exceções!\")"
   ]
  },
  {
   "cell_type": "markdown",
   "metadata": {
    "colab_type": "text",
    "id": "tue8ihhgZcx9"
   },
   "source": [
    "## **>>> Resumindo...**\n",
    "\n",
    "---\n",
    "\n",
    "try: seu código;\n",
    "<br>except: tratamento dos erros;\n",
    "<br>else: tratamento com senão;\n",
    "<br>finally: executa com ou sem exceções;"
   ]
  },
  {
   "cell_type": "markdown",
   "metadata": {
    "colab_type": "text",
    "id": "pRLgMgb8R9c5"
   },
   "source": [
    "# **>>> Exercícios**\n",
    "\n",
    "---\n",
    "\n"
   ]
  },
  {
   "cell_type": "markdown",
   "metadata": {
    "colab_type": "text",
    "id": "XGWtwD3QIKc2"
   },
   "source": [
    " **1.** Crie um código em Python que solicite do usuário o input de um número inteiro. Caso haja preenchimento diferente, a máquina deve  guiar o usuário até ajustar sua resposta. (Fácil)"
   ]
  },
  {
   "cell_type": "code",
   "execution_count": 11,
   "metadata": {
    "colab": {},
    "colab_type": "code",
    "id": "vzDDUZvrIPCf"
   },
   "outputs": [
    {
     "name": "stdin",
     "output_type": "stream",
     "text": [
      "Número inteiro:  43.8\n"
     ]
    },
    {
     "name": "stdout",
     "output_type": "stream",
     "text": [
      "Não é um inteiro. Tente novamente.\n",
      "\n"
     ]
    },
    {
     "name": "stdin",
     "output_type": "stream",
     "text": [
      "Número inteiro:  5\n"
     ]
    },
    {
     "name": "stdout",
     "output_type": "stream",
     "text": [
      "É um inteiro!\n"
     ]
    }
   ],
   "source": [
    "while True:\n",
    "    try:\n",
    "        i = int(input(\"Número inteiro: \"))\n",
    "        print('É um inteiro!')\n",
    "        break\n",
    "    except ValueError:\n",
    "        print('Não é um inteiro. Tente novamente.\\n')"
   ]
  },
  {
   "cell_type": "markdown",
   "metadata": {
    "colab_type": "text",
    "id": "JvrLbNiOIPb5"
   },
   "source": [
    "**2.** Crie um código em Python que solicite do usuário o input de 2 números inteiros e assim divida o primeiro número pelo segundo. Caso o input não seja um número inteiro, seu código deve guiar o usuário até o preenchimento correto. Caso o usuário preencha com 0,  que apresente mensagem falando sobre a indivisibilidade por zero. Caso o usuário não digite um número, informar que um número deve ser digitado. Em outros casos de erro, apresente ao usuário uma mensagem de erro inesperado.(Médio)"
   ]
  },
  {
   "cell_type": "code",
   "execution_count": 14,
   "metadata": {
    "colab": {},
    "colab_type": "code",
    "id": "9YdH3SMNITYf"
   },
   "outputs": [
    {
     "name": "stdout",
     "output_type": "stream",
     "text": [
      "Divisão de números inteiros\n",
      "\n"
     ]
    },
    {
     "name": "stdin",
     "output_type": "stream",
     "text": [
      "Dividendo:  44.5\n"
     ]
    },
    {
     "name": "stdout",
     "output_type": "stream",
     "text": [
      "Não é um inteiro.\n",
      "\n"
     ]
    },
    {
     "name": "stdin",
     "output_type": "stream",
     "text": [
      "Dividendo:  45\n",
      "Divisor:  0\n"
     ]
    },
    {
     "name": "stdout",
     "output_type": "stream",
     "text": [
      "O divisor não pode ser 0 \n",
      "\n"
     ]
    },
    {
     "name": "stdin",
     "output_type": "stream",
     "text": [
      "Divisor:  7.0\n"
     ]
    },
    {
     "name": "stdout",
     "output_type": "stream",
     "text": [
      "Não é um inteiro.\n",
      "\n"
     ]
    },
    {
     "name": "stdin",
     "output_type": "stream",
     "text": [
      "Divisor:  7\n"
     ]
    },
    {
     "name": "stdout",
     "output_type": "stream",
     "text": [
      "\n",
      "\n",
      "45/7 = 6 com resto = 3\n"
     ]
    }
   ],
   "source": [
    "print('Divisão de números inteiros\\n')\n",
    "while True:\n",
    "    try:\n",
    "        dividendo = int(input('Dividendo: '))\n",
    "        break\n",
    "    except ValueError:\n",
    "        print('Não é um inteiro.\\n')\n",
    "        \n",
    "while True:\n",
    "    try:\n",
    "        divisor = int(input('Divisor: '))\n",
    "        quociente = dividendo // divisor\n",
    "        resto = dividendo % divisor\n",
    "        print(f'\\n\\n{dividendo}/{divisor} = {quociente} com resto = {resto}')\n",
    "        break\n",
    "    except ValueError:\n",
    "        print('Não é um inteiro.\\n')       \n",
    "        \n",
    "    except ZeroDivisionError:\n",
    "        print('O divisor não pode ser 0 \\n')\n",
    "        \n",
    "    except:\n",
    "        print('Sei lá o que você fez, mas fez errado!')"
   ]
  },
  {
   "cell_type": "markdown",
   "metadata": {
    "colab_type": "text",
    "id": "jtw8QMYDIRaB"
   },
   "source": [
    "**3.** Crie um código em Python que peça um número ímpar do usuário. Caso o número seja par, apresente mensagem guiando o usuário até o preenchimento correto(Difícil)"
   ]
  },
  {
   "cell_type": "code",
   "execution_count": 7,
   "metadata": {
    "colab": {},
    "colab_type": "code",
    "id": "vC_p3cQbITOF"
   },
   "outputs": [
    {
     "name": "stdin",
     "output_type": "stream",
     "text": [
      "Digite um numero ímpar:  4\n"
     ]
    },
    {
     "name": "stdout",
     "output_type": "stream",
     "text": [
      "Não é um número ímpar!\n"
     ]
    },
    {
     "name": "stdin",
     "output_type": "stream",
     "text": [
      "Digite um numero ímpar:  0\n"
     ]
    },
    {
     "name": "stdout",
     "output_type": "stream",
     "text": [
      "Não é um número ímpar!\n"
     ]
    },
    {
     "name": "stdin",
     "output_type": "stream",
     "text": [
      "Digite um numero ímpar:  5\n"
     ]
    }
   ],
   "source": [
    "while True:\n",
    "    try:\n",
    "        impar = int(input('Digite um numero ímpar: '))\n",
    "        2 % (impar % 2) # Lança ZeroDivisionError se par      \n",
    "        break\n",
    "    except ValueError:\n",
    "        print('Não é um número ímpar!')\n",
    "    except ZeroDivisionError:\n",
    "        print('Não é um número ímpar!')"
   ]
  },
  {
   "cell_type": "markdown",
   "metadata": {
    "colab_type": "text",
    "id": "Se618gaqIWP5"
   },
   "source": [
    "# **Solução**"
   ]
  },
  {
   "cell_type": "code",
   "execution_count": null,
   "metadata": {
    "colab": {},
    "colab_type": "code",
    "id": "lQ5ynDl8IatH"
   },
   "outputs": [],
   "source": [
    "# Exercício 1\n",
    "while True:\n",
    "    try:\n",
    "        x = int(input(\"Digite um número inteiro: \"))\n",
    "        print(f\"Dividindo 100 por {x} teremos {int(100/x)}\")\n",
    "        break\n",
    "    except ValueError:\n",
    "        print(\"O valor digitado não é um inteiro. Tente novamente\")"
   ]
  },
  {
   "cell_type": "code",
   "execution_count": null,
   "metadata": {
    "colab": {},
    "colab_type": "code",
    "id": "oKK_wWGyIa3J"
   },
   "outputs": [],
   "source": [
    "# Exercício 2\n",
    "while True:\n",
    "    try:\n",
    "        x = int( input( \"Digite 1 número: \" ) )\n",
    "        y = int( input( \"Digite outro número: \" ) )\n",
    "        print( x, '/', y, '=', x/y )\n",
    "        break\n",
    "    except ZeroDivisionError:\n",
    "        print( \"Indivisível por 0!\" )\n",
    "    except ValueError:\n",
    "        print( \"Isto nem parece ser um número!\" )\n",
    "    except:\n",
    "        print( \"Algo inesperado ocorreu! Tente novamente\" )"
   ]
  },
  {
   "cell_type": "code",
   "execution_count": null,
   "metadata": {
    "colab": {},
    "colab_type": "code",
    "id": "PcGk09z-Ia_n"
   },
   "outputs": [
    {
     "name": "stdin",
     "output_type": "stream",
     "text": [
      "Digite um número ímpar:  7\n"
     ]
    },
    {
     "name": "stdout",
     "output_type": "stream",
     "text": [
      "1\n"
     ]
    },
    {
     "name": "stdin",
     "output_type": "stream",
     "text": [
      "Digite um número ímpar:  4\n"
     ]
    },
    {
     "name": "stdout",
     "output_type": "stream",
     "text": [
      "1\n"
     ]
    },
    {
     "name": "stdin",
     "output_type": "stream",
     "text": [
      "Digite um número ímpar:  d\n"
     ]
    },
    {
     "name": "stdout",
     "output_type": "stream",
     "text": [
      "Este número é par. Preencha com um valor ímpar\n"
     ]
    },
    {
     "name": "stdin",
     "output_type": "stream",
     "text": [
      "Digite um número ímpar:  d\n"
     ]
    },
    {
     "name": "stdout",
     "output_type": "stream",
     "text": [
      "Este número é par. Preencha com um valor ímpar\n"
     ]
    },
    {
     "name": "stdin",
     "output_type": "stream",
     "text": [
      "Digite um número ímpar:  s\n"
     ]
    },
    {
     "name": "stdout",
     "output_type": "stream",
     "text": [
      "Este número é par. Preencha com um valor ímpar\n"
     ]
    },
    {
     "name": "stdin",
     "output_type": "stream",
     "text": [
      "Digite um número ímpar:  4\n"
     ]
    },
    {
     "name": "stdout",
     "output_type": "stream",
     "text": [
      "1\n"
     ]
    },
    {
     "name": "stdin",
     "output_type": "stream",
     "text": [
      "Digite um número ímpar:  s\n"
     ]
    },
    {
     "name": "stdout",
     "output_type": "stream",
     "text": [
      "Este número é par. Preencha com um valor ímpar\n"
     ]
    },
    {
     "name": "stdin",
     "output_type": "stream",
     "text": [
      "Digite um número ímpar:  e2\n"
     ]
    },
    {
     "name": "stdout",
     "output_type": "stream",
     "text": [
      "Este número é par. Preencha com um valor ímpar\n"
     ]
    },
    {
     "name": "stdin",
     "output_type": "stream",
     "text": [
      "Digite um número ímpar:  45\n"
     ]
    },
    {
     "name": "stdout",
     "output_type": "stream",
     "text": [
      "Este número é par. Preencha com um valor ímpar\n"
     ]
    }
   ],
   "source": [
    "# Exercício 3: (A SOLUÇÃO PROPOSTA ESTÁ ERRADA)\n",
    "while True:\n",
    "    try:\n",
    "        x = int(input(\"Digite um número ímpar: \"))\n",
    "        print(x%3)\n",
    "    except:\n",
    "        if x%2 == 0:\n",
    "            print(\"Este número é par. Preencha com um valor ímpar\")\n"
   ]
  },
  {
   "cell_type": "code",
   "execution_count": null,
   "metadata": {},
   "outputs": [],
   "source": []
  }
 ],
 "metadata": {
  "accelerator": "GPU",
  "colab": {
   "collapsed_sections": [],
   "name": "TratamentoDeErrosEExceções.ipynb",
   "private_outputs": true,
   "provenance": []
  },
  "kernelspec": {
   "display_name": "Python 3",
   "language": "python",
   "name": "python3"
  },
  "language_info": {
   "codemirror_mode": {
    "name": "ipython",
    "version": 3
   },
   "file_extension": ".py",
   "mimetype": "text/x-python",
   "name": "python",
   "nbconvert_exporter": "python",
   "pygments_lexer": "ipython3",
   "version": "3.7.4"
  }
 },
 "nbformat": 4,
 "nbformat_minor": 4
}
