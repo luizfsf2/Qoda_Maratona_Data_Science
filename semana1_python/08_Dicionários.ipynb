{
  "nbformat": 4,
  "nbformat_minor": 0,
  "metadata": {
    "colab": {
      "name": "Dicionários.ipynb",
      "provenance": [],
      "private_outputs": true,
      "collapsed_sections": []
    },
    "kernelspec": {
      "name": "python3",
      "display_name": "Python 3"
    },
    "accelerator": "GPU"
  },
  "cells": [
    {
      "cell_type": "markdown",
      "metadata": {
        "id": "vhllsPG5SOzi",
        "colab_type": "text"
      },
      "source": [
        "# **Dicionários**\n",
        "\n",
        "---"
      ]
    },
    {
      "cell_type": "code",
      "metadata": {
        "id": "XtAh-NKWSMvH",
        "colab_type": "code",
        "colab": {}
      },
      "source": [
        "dic = {'nome':\"Weber\", 'idade':27, 'altura':1.81}\n",
        "print(type(dic))"
      ],
      "execution_count": 0,
      "outputs": []
    },
    {
      "cell_type": "code",
      "metadata": {
        "id": "GIYYVyeEUGQW",
        "colab_type": "code",
        "colab": {}
      },
      "source": [
        "# Acessando chaves(atributos)\n",
        "print(dic.keys())"
      ],
      "execution_count": 0,
      "outputs": []
    },
    {
      "cell_type": "code",
      "metadata": {
        "id": "vAC1uRbSUJSq",
        "colab_type": "code",
        "colab": {}
      },
      "source": [
        "# Acessando valores\n",
        "print(dic.values())"
      ],
      "execution_count": 0,
      "outputs": []
    },
    {
      "cell_type": "code",
      "metadata": {
        "id": "ZcLY7eQ9UXJQ",
        "colab_type": "code",
        "colab": {}
      },
      "source": [
        "# Acessando valor+chave\n",
        "print(dic.items())"
      ],
      "execution_count": 0,
      "outputs": []
    },
    {
      "cell_type": "code",
      "metadata": {
        "id": "mhCMokTnSnqM",
        "colab_type": "code",
        "colab": {}
      },
      "source": [
        "# Organizando as informações\n",
        "print(f\"O nome dele é {dic['nome']}, tem {dic['idade']} anos e mede {dic['altura']}m\")"
      ],
      "execution_count": 0,
      "outputs": []
    },
    {
      "cell_type": "code",
      "metadata": {
        "id": "YuwOr0BlA54l",
        "colab_type": "code",
        "colab": {}
      },
      "source": [
        "dir(dict)"
      ],
      "execution_count": 0,
      "outputs": []
    },
    {
      "cell_type": "code",
      "metadata": {
        "id": "FPSNbOZQA-Bc",
        "colab_type": "code",
        "colab": {}
      },
      "source": [
        "help(dict)"
      ],
      "execution_count": 0,
      "outputs": []
    },
    {
      "cell_type": "markdown",
      "metadata": {
        "id": "_OO60D1qBEjl",
        "colab_type": "text"
      },
      "source": [
        "# **>>> Exercícios**\n",
        "\n",
        "---\n",
        "\n",
        "\n",
        "\n",
        "\n"
      ]
    },
    {
      "cell_type": "markdown",
      "metadata": {
        "id": "AywDi935hNK2",
        "colab_type": "text"
      },
      "source": [
        "1.   Crie um dicionário com, pelo menos, 3 chaves/valor (fácil)\n"
      ]
    },
    {
      "cell_type": "code",
      "metadata": {
        "id": "NpX99qf4hOqX",
        "colab_type": "code",
        "colab": {}
      },
      "source": [
        "# Insira seu código aqui"
      ],
      "execution_count": 0,
      "outputs": []
    },
    {
      "cell_type": "markdown",
      "metadata": {
        "id": "lddPK___hO3e",
        "colab_type": "text"
      },
      "source": [
        "2.   Em uma nova célula remova 1 ítem chave/valor do dicionário criado anteriormente (médio)\n"
      ]
    },
    {
      "cell_type": "code",
      "metadata": {
        "id": "foaE8Ni8hQCn",
        "colab_type": "code",
        "colab": {}
      },
      "source": [
        "# Insira seu código aqui"
      ],
      "execution_count": 0,
      "outputs": []
    },
    {
      "cell_type": "markdown",
      "metadata": {
        "id": "6UI_sDbZhQiN",
        "colab_type": "text"
      },
      "source": [
        "3.   Crie um novo dicionário, armazenando-o em uma nova variável e agora unifique este com outro dicionário criado anteriormente (difícil)"
      ]
    },
    {
      "cell_type": "code",
      "metadata": {
        "id": "Id27lDUUhRIY",
        "colab_type": "code",
        "colab": {}
      },
      "source": [
        "# Insira seu código aqui"
      ],
      "execution_count": 0,
      "outputs": []
    }
  ]
}