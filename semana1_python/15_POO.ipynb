{
 "cells": [
  {
   "cell_type": "markdown",
   "metadata": {
    "colab_type": "text",
    "id": "P9qc_4U1sihN"
   },
   "source": [
    "# **>>> Programação Orientada a Objetos(POO)**\n",
    "Maiores informações [AQUI](https://pt.wikipedia.org/wiki/Programa%C3%A7%C3%A3o_orientada_a_objetos)\n",
    "\n",
    "---\n",
    "\n",
    "Dados >>> Atributos\n",
    "\n",
    "Comportamento >>> Métodos"
   ]
  },
  {
   "cell_type": "markdown",
   "metadata": {
    "colab_type": "text",
    "id": "fWdSdPQuPJYP"
   },
   "source": [
    "## **>>> Classes**\n",
    "\n",
    "---\n",
    "\n"
   ]
  },
  {
   "cell_type": "code",
   "execution_count": 1,
   "metadata": {
    "colab": {},
    "colab_type": "code",
    "id": "fzFA1i2FsSnK"
   },
   "outputs": [],
   "source": [
    "# Classes\n",
    "class Carro:\n",
    "    pass"
   ]
  },
  {
   "cell_type": "code",
   "execution_count": 2,
   "metadata": {
    "colab": {
     "base_uri": "https://localhost:8080/",
     "height": 34
    },
    "colab_type": "code",
    "id": "UCBaGaZHQaJ4",
    "outputId": "dfe7aabd-ec67-4abf-dc02-512a235282d2"
   },
   "outputs": [
    {
     "name": "stdout",
     "output_type": "stream",
     "text": [
      "Weber\n"
     ]
    }
   ],
   "source": [
    "# Criando uma classe\n",
    "class Pessoa:\n",
    "    def __init__(self,nome,idade):\n",
    "        self.nome = nome\n",
    "        self.idade = idade\n",
    "\n",
    "b1 = Pessoa(\"Weber\", 27)\n",
    "print(b1.nome)"
   ]
  },
  {
   "cell_type": "code",
   "execution_count": 3,
   "metadata": {
    "colab": {
     "base_uri": "https://localhost:8080/",
     "height": 34
    },
    "colab_type": "code",
    "id": "WFkGFxTORRVl",
    "outputId": "dd49959e-e323-4969-d934-8c2f38ffbbd6"
   },
   "outputs": [
    {
     "data": {
      "text/plain": [
       "'Weber'"
      ]
     },
     "execution_count": 3,
     "metadata": {},
     "output_type": "execute_result"
    }
   ],
   "source": [
    "# Atributo Getter\n",
    "getattr(b1, \"nome\")"
   ]
  },
  {
   "cell_type": "code",
   "execution_count": 4,
   "metadata": {
    "colab": {
     "base_uri": "https://localhost:8080/",
     "height": 34
    },
    "colab_type": "code",
    "id": "FN_IrzeJRse-",
    "outputId": "4b20c86e-e1e9-4b96-c49e-6664f1477d60"
   },
   "outputs": [
    {
     "name": "stdout",
     "output_type": "stream",
     "text": [
      "Web\n"
     ]
    }
   ],
   "source": [
    "# Atributo Setter\n",
    "setattr(b1, \"nome\", \"Web\")\n",
    "print(b1.nome)"
   ]
  },
  {
   "cell_type": "markdown",
   "metadata": {
    "colab_type": "text",
    "id": "GLekKo3oPc2h"
   },
   "source": [
    "## **>>> Objetos**\n",
    "\n",
    "---\n",
    "\n"
   ]
  },
  {
   "cell_type": "code",
   "execution_count": 5,
   "metadata": {
    "colab": {
     "base_uri": "https://localhost:8080/",
     "height": 34
    },
    "colab_type": "code",
    "id": "BjIsd8bPJyw6",
    "outputId": "45f63db7-d852-4187-fed7-e7379f1619b3"
   },
   "outputs": [
    {
     "name": "stdout",
     "output_type": "stream",
     "text": [
      "<__main__.Carro object at 0x00000232A6434A48>\n"
     ]
    }
   ],
   "source": [
    "# Objetos são instâncias de uma classe\n",
    "fusca = Carro()\n",
    "print(fusca)"
   ]
  },
  {
   "cell_type": "code",
   "execution_count": 6,
   "metadata": {
    "colab": {},
    "colab_type": "code",
    "id": "Aht9yvLlPo1V"
   },
   "outputs": [
    {
     "data": {
      "text/plain": [
       "'\\nTodos tipos de dados em Python são objetos. \\nLista, inteiros, floating, booleanos e strings são classes.\\nAo utilizarmos o dir() recebemos a lista de seus métodos e funções.\\n'"
      ]
     },
     "execution_count": 6,
     "metadata": {},
     "output_type": "execute_result"
    }
   ],
   "source": [
    "'''\n",
    "Todos tipos de dados em Python são objetos. \n",
    "Lista, inteiros, floating, booleanos e strings são classes.\n",
    "Ao utilizarmos o dir() recebemos a lista de seus métodos e funções.\n",
    "'''"
   ]
  },
  {
   "cell_type": "code",
   "execution_count": 7,
   "metadata": {
    "colab": {
     "base_uri": "https://localhost:8080/",
     "height": 34
    },
    "colab_type": "code",
    "id": "vb1Rb3B4QFmu",
    "outputId": "6bfccb62-df89-406e-86d3-65229cb3445b"
   },
   "outputs": [
    {
     "name": "stdout",
     "output_type": "stream",
     "text": [
      "<class 'list'>\n"
     ]
    }
   ],
   "source": [
    "# A variável abaixo é uma instância da classe \"list\"\n",
    "lista = [1,2,3,4,5]\n",
    "print(type(lista))"
   ]
  },
  {
   "cell_type": "code",
   "execution_count": 8,
   "metadata": {
    "colab": {},
    "colab_type": "code",
    "id": "cQ0YiDmYKER_"
   },
   "outputs": [],
   "source": [
    "# Atributos e o método __init__(construtor)\n",
    "class Carro:\n",
    "    def __init__(self,rodas,tanque,bancos,velocidade):\n",
    "        self.rodas = rodas\n",
    "        self.tanque = tanque\n",
    "        self.bancos = bancos\n",
    "        self.velocidade = velocidade"
   ]
  },
  {
   "cell_type": "code",
   "execution_count": 9,
   "metadata": {
    "colab": {},
    "colab_type": "code",
    "id": "AmUJDuhGKjT3"
   },
   "outputs": [],
   "source": [
    "# Criando um objeto com atributos\n",
    "tesla = Carro(4,\"200 litros\",5,\"250km/h\")"
   ]
  },
  {
   "cell_type": "code",
   "execution_count": 10,
   "metadata": {
    "colab": {
     "base_uri": "https://localhost:8080/",
     "height": 34
    },
    "colab_type": "code",
    "id": "PlDBxW4DLvQo",
    "outputId": "cba1694c-6430-4382-e4eb-7e20e291a357"
   },
   "outputs": [
    {
     "name": "stdout",
     "output_type": "stream",
     "text": [
      "Nosso veículo possui 4 rodas, tanque com capacidade de até 200 litros, 5 assentos e acelera até 250km/h\n"
     ]
    }
   ],
   "source": [
    "# Acessando os valores\n",
    "print(f\"Nosso veículo possui {tesla.rodas} rodas, tanque com capacidade de até {tesla.tanque}, {tesla.bancos} assentos e acelera até {tesla.velocidade}\")"
   ]
  },
  {
   "cell_type": "code",
   "execution_count": 11,
   "metadata": {
    "colab": {
     "base_uri": "https://localhost:8080/",
     "height": 34
    },
    "colab_type": "code",
    "id": "lX8yRgohMdzz",
    "outputId": "17180b70-5cc9-4824-beea-df76674ea8cb"
   },
   "outputs": [
    {
     "name": "stdout",
     "output_type": "stream",
     "text": [
      "2\n"
     ]
    }
   ],
   "source": [
    "# Alterando valores\n",
    "tesla.rodas = 2\n",
    "print(tesla.rodas)"
   ]
  },
  {
   "cell_type": "markdown",
   "metadata": {
    "colab_type": "text",
    "id": "djld-aLZSQp5"
   },
   "source": [
    "## **>>> Métodos**\n",
    "\n",
    "---\n",
    "\n"
   ]
  },
  {
   "cell_type": "code",
   "execution_count": 12,
   "metadata": {
    "colab": {},
    "colab_type": "code",
    "id": "RvVZBk75STyB"
   },
   "outputs": [],
   "source": [
    "# Criando método com valor default\n",
    "class Turista():\n",
    "    def __init__(self, nome, nacionalidade = 'brasileira'):\n",
    "        self.nome = nome\n",
    "        self.nacionalidade = nacionalidade"
   ]
  },
  {
   "cell_type": "code",
   "execution_count": 13,
   "metadata": {
    "colab": {},
    "colab_type": "code",
    "id": "QmXbPUZrS4-8"
   },
   "outputs": [],
   "source": [
    "# Criando diversos métodos para uma mesma classe\n",
    "class Turista():\n",
    "    def __init__(self, nome, nacionalidade = \"brasileira\"):\n",
    "        self.nome = nome\n",
    "        self.nacionalidade = nacionalidade\n",
    "    def ConfigNacionalidade(self, nova_nacionalidade):\n",
    "        self.nacionalidade = nova_nacionalidade\n",
    "    def ConfigNome(self, novo_nome):\n",
    "        self.nome = novo_nome"
   ]
  },
  {
   "cell_type": "code",
   "execution_count": 14,
   "metadata": {
    "colab": {
     "base_uri": "https://localhost:8080/",
     "height": 34
    },
    "colab_type": "code",
    "id": "R7b7n3YNTTBQ",
    "outputId": "73929b7f-38db-44a7-d3f9-c9f2c7290cf4"
   },
   "outputs": [
    {
     "name": "stdout",
     "output_type": "stream",
     "text": [
      "Anita brasileira\n"
     ]
    }
   ],
   "source": [
    "t1 = Turista(\"Anita\")\n",
    "print(t1.nome, t1.nacionalidade)"
   ]
  },
  {
   "cell_type": "code",
   "execution_count": 15,
   "metadata": {
    "colab": {
     "base_uri": "https://localhost:8080/",
     "height": 34
    },
    "colab_type": "code",
    "id": "1pljzYHdTmgy",
    "outputId": "a128bcb9-d246-4f58-ca16-56e4a02b4e15"
   },
   "outputs": [
    {
     "name": "stdout",
     "output_type": "stream",
     "text": [
      "Anita Espanhola\n"
     ]
    }
   ],
   "source": [
    "t1.ConfigNacionalidade(\"Espanhola\")\n",
    "print(t1.nome, t1.nacionalidade)"
   ]
  },
  {
   "cell_type": "markdown",
   "metadata": {
    "colab_type": "text",
    "id": "ni8oRAgJOBgf"
   },
   "source": [
    "## **>>> Herança**\n",
    "---\n",
    "\n",
    "Ao criar uma nova classe você pode querer \"herdar\" os atributos de outra classe."
   ]
  },
  {
   "cell_type": "code",
   "execution_count": 16,
   "metadata": {
    "colab": {
     "base_uri": "https://localhost:8080/",
     "height": 34
    },
    "colab_type": "code",
    "id": "PnqISTr1OLRY",
    "outputId": "30428ffc-0ed7-4c6a-f1ff-7f7017743fd8"
   },
   "outputs": [
    {
     "name": "stdout",
     "output_type": "stream",
     "text": [
      "4\n"
     ]
    }
   ],
   "source": [
    "# Classe Carro\n",
    "class Carro:\n",
    "    def __init__(self,rodas,tanque,bancos,velocidade):\n",
    "        self.rodas = rodas\n",
    "        self.tanque = tanque\n",
    "        self.bancos = bancos\n",
    "        self.velocidade = velocidade\n",
    "\n",
    "# Classe Carro Elétrico\n",
    "class CarroEletrico:\n",
    "    def __init__(self,rodas,tanque,bancos,velocidade):\n",
    "        Carro.__init__(self,rodas,tanque,bancos,velocidade)\n",
    "\n",
    "carrinho = CarroEletrico(4,\"100 litros\",5,\"180 km/h\")\n",
    "print(carrinho.rodas)"
   ]
  },
  {
   "cell_type": "markdown",
   "metadata": {
    "colab_type": "text",
    "id": "9NvFBdSNVzN6"
   },
   "source": [
    "# **>>> Diferença entre Métodos e Funções**\n",
    "\n",
    "---\n",
    "\n",
    "Função: bloco para realizar tarefa específica, podendo retornar, ou não, valores.\n",
    "\n",
    "Método: Tem de estar sempre associado a objetos/classes."
   ]
  },
  {
   "cell_type": "code",
   "execution_count": 17,
   "metadata": {
    "colab": {
     "base_uri": "https://localhost:8080/",
     "height": 34
    },
    "colab_type": "code",
    "id": "RX6C7zGvWZJe",
    "outputId": "b496f8b4-bb33-4072-871f-a35dd8c6275d"
   },
   "outputs": [
    {
     "data": {
      "text/plain": [
       "2"
      ]
     },
     "execution_count": 17,
     "metadata": {},
     "output_type": "execute_result"
    }
   ],
   "source": [
    "# Função\n",
    "def soma(n1,n2):\n",
    "    return(n1+n2)\n",
    "soma(1,1)"
   ]
  },
  {
   "cell_type": "code",
   "execution_count": 18,
   "metadata": {
    "colab": {
     "base_uri": "https://localhost:8080/",
     "height": 34
    },
    "colab_type": "code",
    "id": "Pb7DKjHtWhYj",
    "outputId": "7ccb0fdf-1b00-4ad2-c4d7-3bef5648e0de"
   },
   "outputs": [
    {
     "name": "stdout",
     "output_type": "stream",
     "text": [
      "Eu sou um método\n"
     ]
    }
   ],
   "source": [
    "# Método\n",
    "class Metodo(object):\n",
    "    def metod(self):\n",
    "        print(\"Eu sou um método\")\n",
    "m1 = Metodo()\n",
    "m1.metod()"
   ]
  },
  {
   "cell_type": "code",
   "execution_count": null,
   "metadata": {},
   "outputs": [],
   "source": []
  }
 ],
 "metadata": {
  "colab": {
   "collapsed_sections": [
    "fWdSdPQuPJYP",
    "GLekKo3oPc2h",
    "djld-aLZSQp5"
   ],
   "name": "POO.ipynb",
   "provenance": []
  },
  "kernelspec": {
   "display_name": "Python 3",
   "language": "python",
   "name": "python3"
  },
  "language_info": {
   "codemirror_mode": {
    "name": "ipython",
    "version": 3
   },
   "file_extension": ".py",
   "mimetype": "text/x-python",
   "name": "python",
   "nbconvert_exporter": "python",
   "pygments_lexer": "ipython3",
   "version": "3.7.4"
  }
 },
 "nbformat": 4,
 "nbformat_minor": 4
}
