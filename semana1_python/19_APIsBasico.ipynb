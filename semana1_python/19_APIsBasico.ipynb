{
 "cells": [
  {
   "cell_type": "markdown",
   "metadata": {
    "colab_type": "text",
    "id": "RNDx8IXexIET"
   },
   "source": [
    "## APIs\n",
    "Interface de Programação de Aplicação, é um conjunto de rotinas e padrões estabelecidos por um software para a utilização das suas funcionalidades por aplicativos que não pretendem envolver-se em detalhes da implementação do software, mas apenas usar seus serviços.\n"
   ]
  },
  {
   "cell_type": "code",
   "execution_count": 1,
   "metadata": {
    "colab": {},
    "colab_type": "code",
    "id": "WeYyyn7-xHSU"
   },
   "outputs": [
    {
     "name": "stdout",
     "output_type": "stream",
     "text": [
      "WhatsApp libera nova versão beta do aplicativo de mensagens - Metro Jornal\n",
      "Metro Jornal - 2020/05/13\n",
      "https://www.metrojornal.com.br/foco/2020/05/13/sindicais-querem-cortes-como-saida-para-outras-crises.html\n",
      "\n",
      "10 notícias de tecnologia para você começar o dia (13/05) - TecMundo\n",
      "Comece esta quarta-feira (13) por dentro de tudo o que rolou no mundo da Ciência e Tecnologia\n",
      "https://www.tecmundo.com.br/internet/153073-10-noticias-tecnologia-voce-comecar-dia-13-05.htm\n",
      "\n",
      "Foguete chinês de 20 toneladas cai na Terra; destroços atingem África - Tilt\n",
      "O enorme corpo de um foguete chinês caiu descontroladamente na Terra na noite de ontem (11). Ele havia sido usado na semana passada e virou lixo espacial, mas reentrou na atmosfera de maneira imprevisível. Após se despedaçar e queimar, detritos caíram sob\n",
      "https://www.uol.com.br/tilt/noticias/redacao/2020/05/12/foguete-chines-de-20-toneladas-cai-na-terra-destrocos-atingem-africa.htm\n",
      "\n",
      "Futuros chips de AMD, Intel e Nvidia em 5nm já estariam reservados para produção pela ... - Adrenaline\n",
      "Processadores da arquitetura Zen4 e GPUs RDNA3, Xe e Hopper já teriam suas fabricações reservadas para os anos de 2021 e 2022\n",
      "https://adrenaline.com.br/noticias/v/64014/futuros-chips-de-amd-intel-e-nvidia-em-5nm-ja-estariam-reservados-para-producao-pela-tsmc\n",
      "\n",
      "Positivo lança notebook Motion C com botão do Deezer integrado - TecMundo\n",
      "Equipamento de baixo custo traz um touchpad que se transforma em teclado numérico\n",
      "https://www.tecmundo.com.br/produto/153076-positivo-lanca-notebook-motion-c-botao-deezer-integrado.htm\n",
      "\n",
      "Claro vai encerrar sinal aberto de diversos canais da TV Paga - Minha Operadora\n",
      "Confira a lista de emissoras que continuarão com a programação liberada para todos os assinantes.\n",
      "https://www.minhaoperadora.com.br/2020/05/claro-vai-encerrar-sinal-aberto-de-diversos-canais-da-tv-paga.html\n",
      "\n",
      "Cyberpunk 2077: 10 coisas que já sabemos sobre o game - Legião dos Heróis\n",
      "O futuro distópico nunca foi tão legal! Após finalmente conquistarem seu lugar ao sol com The Witcher 3: Wild Hunt, a produtora polonesa CD Projekt RED prepara seu novo e ainda mais ambicioso título: Cyberpunk 2077, que promete marcar época e revolucionar est…\n",
      "https://www.legiaodosherois.com.br/lista/cyberpunk-2077-10-coisas.html\n",
      "\n",
      "Huawei relança P30 Pro na Europa com novas cores e preço mais baixo para driblar proibição dos EUA - Gizmodo Brasil\n",
      "P30 Pro New Edition é basicamente o mesmo aparelho do ano passado, até mesmo com apps do Google. Relançamento é uma forma de driblar proibição dos EUA.\n",
      "https://gizmodo.uol.com.br/?p=353586/\n",
      "\n",
      "Intel Core i9-10900K rodaria a 90°C, mesmo com resfriamento líquido [Rumor] - Adrenaline\n",
      "Relatos iniciais de usuários na China mostram que 14nm+++ não é tão eficiente quanto esperado\n",
      "https://adrenaline.com.br/noticias/v/64008/intel-core-i9-10900k-rodaria-a-90c-mesmo-com-resfriamento-liquido-rumor\n",
      "\n",
      "LG Wing é um conceito de celular com tela giratória - Tecnoblog\n",
      "LG pode lançar LG Wing com duas telas, ficha técnica intermediária e câmera tripla ainda em 2020\n",
      "https://tecnoblog.net/338496/lg-wing-e-um-conceito-de-celular-com-tela-giratoria/\n",
      "\n",
      "Tesla reabre fábrica na Califórnia sem autorização e Musk desafia autoridades a prendê-lo - InfoMoney\n",
      "\"Estarei na linha de frente com todo mundo. Se alguém for preso, peço que seja apenas eu\", escreveu Elon Musk em seu Twitter\n",
      "https://www.infomoney.com.br/negocios/tesla-reabre-fabrica-na-california-sem-autorizacao-e-musk-desafia-autoridades-a-prende-lo/\n",
      "\n",
      "Polícia apreende R$ 330 mil em celulares Xiaomi e mais - Tecmundo\n",
      "Câmeras e SSDs da Samsung estão entre os produtos encontrados em um ônibus de turismo\n",
      "https://www.tecmundo.com.br/mercado/153068-policia-apreende-r-330-mil-celulares-xiaomi.htm\n",
      "\n",
      "Nvidia RTX 3080 Ti e chip Ampere GA102 têm supostos detalhes vazados - Adrenaline\n",
      "Design de referência teria três fans silenciosos e usaria 2 conectores de 8 pinos\n",
      "https://adrenaline.com.br/noticias/v/64007/nvidia-rtx-3080-ti-e-chip-ampere-ga102-tem-supostos-detalhes-vazados\n",
      "\n",
      "CEO da Nvidia tira do forno (literalmente) o que chama de \"a maior GPU do mundo\" - Adrenaline\n",
      "Coincidência ou não, a arquitetura Ampere pode estar a dois dias de ser apresentada\n",
      "https://adrenaline.com.br/noticias/v/64005/ceo-da-nvidia-tira-do-forno-literalmente-o-que-chama-de-a-maior-gpu-do-mundo\n",
      "\n",
      "Nvidia anuncia bundle da GeForce GTX Série 16 com Shadow of the Tomb Raider - Voxel\n",
      "Todo mundo sabe que para jogar no PC é necessário uma boa placa de vídeo, não é mesmo? Pensando nisso, a Nvidia acaba de anunciar um bundle promocional com as placas GeForce GTX Série 16 e de quebra o comprador ainda leva Shadow of the Tomb Raider para estrea…\n",
      "https://www.voxel.com.br//noticias/nvidia-anuncia-bundle-geforce-gtx-serie-16-shadow-of-the-tomb-raider_848541.htm\n",
      "\n",
      "YouTube Music importa biblioteca e uploads do Google Play Música - Tecnoblog\n",
      "Agora é possível transferir os arquivos de áudio armazenados no Google Play Música para o YouTube Music (finalmente)\n",
      "https://tecnoblog.net/338468/youtube-music-importacao-faixas-google-play-musica/\n",
      "\n",
      "Testes revelam os smartphones mais rápidos do mundo no mês de abril - Olhar Digital\n",
      "Xiaomi recuperou a liderança com o Mi 10 Pro, e levou também o terceiro lugar no ranking da AnTuTu; Samsung foi a empresa com mais aparelhos na lista\n",
      "https://olhardigital.com.br/noticia/testes-revelam-os-celulares-mais-rapidos-do-mundo-no-mes-de-abril/100622\n",
      "\n",
      "Práticos e básicos: Nokia 125 e Nokia 150 são anunciados oficialmente - Tudocelular.com\n",
      "Novos aparelhos são básicos e devem oferecer uma bateria duradoura para usuários menos exigentes.\n",
      "https://www.tudocelular.com/nokia/noticias/n156374/nokia-125-150-anunciados-oficialmente.html\n",
      "\n",
      "Entenda o que é o halving do bitcoin e suas consequências para investidores - Zero Hora\n",
      "O mercado de bitcoins passou, nesta segunda-feira (11), pelo processo de halving (reduzir pela metade, em tradução livre). Esse acontecimento ocorre, em média, a cada quatro anos, e tem como objetivo reduzir pela metade a oferta de novas criptomoedas, sem afe…\n",
      "https://gauchazh.clicrbs.com.br/economia/noticia/2020/05/entenda-o-que-e-o-halving-do-bitcoin-e-suas-consequencias-para-investidores-cka46m9g800fl015n84ytg3t9.html\n",
      "\n",
      "Uber faz oferta para comprar empresa de entrega de alimentos GrubHub - InfoMoney\n",
      "Ações das duas empresas disparam com os rumores de aquisição\n",
      "https://www.infomoney.com.br/negocios/uber-faz-oferta-para-comprar-empresa-de-entrega-de-alimentos-grubhub/\n",
      "\n"
     ]
    }
   ],
   "source": [
    "# newsapi.org\n",
    "import json\n",
    "import requests\n",
    "\n",
    "try:\n",
    "    req = requests.get('https://newsapi.org/v2/top-headlines?country=br&category=technology&apiKey=be8e91e06d5b42ccbcb887ccbfb001f5')\n",
    "    noticias = json.loads(req.text)\n",
    "    for news in noticias['articles']:\n",
    "        titulo = news['title']\n",
    "        link = news['url']\n",
    "        desc = news['description']\n",
    "        mensagem = f'{titulo}\\n{desc}\\n{link}'\n",
    "        print(mensagem)\n",
    "        print()\n",
    "except Exception as e:\n",
    "    print(f\"Não desta vez! Erro encontrado: {e}\")"
   ]
  },
  {
   "cell_type": "code",
   "execution_count": null,
   "metadata": {},
   "outputs": [],
   "source": []
  }
 ],
 "metadata": {
  "colab": {
   "name": "APIsBasico.ipynb",
   "provenance": []
  },
  "kernelspec": {
   "display_name": "Python 3",
   "language": "python",
   "name": "python3"
  },
  "language_info": {
   "codemirror_mode": {
    "name": "ipython",
    "version": 3
   },
   "file_extension": ".py",
   "mimetype": "text/x-python",
   "name": "python",
   "nbconvert_exporter": "python",
   "pygments_lexer": "ipython3",
   "version": "3.7.4"
  }
 },
 "nbformat": 4,
 "nbformat_minor": 4
}
