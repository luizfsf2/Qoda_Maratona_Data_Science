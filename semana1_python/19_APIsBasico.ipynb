{
 "cells": [
  {
   "cell_type": "markdown",
   "metadata": {
    "colab_type": "text",
    "id": "RNDx8IXexIET"
   },
   "source": [
    "## APIs\n",
    "Interface de Programação de Aplicação, é um conjunto de rotinas e padrões estabelecidos por um software para a utilização das suas funcionalidades por aplicativos que não pretendem envolver-se em detalhes da implementação do software, mas apenas usar seus serviços.\n"
   ]
  },
  {
   "cell_type": "code",
   "execution_count": null,
   "metadata": {
    "colab": {},
    "colab_type": "code",
    "id": "WeYyyn7-xHSU"
   },
   "outputs": [],
   "source": [
    "# newsapi.org\n",
    "import json\n",
    "import requests\n",
    "\n",
    "try:\n",
    "    req = requests.get('https://newsapi.org/v2/top-headlines?country=br&category=technology&apiKey=be8e91e06d5b42ccbcb887ccbfb001f5')\n",
    "    noticias = json.loads(req.text)\n",
    "    for news in noticias['articles']:\n",
    "        titulo = news['title']\n",
    "        link = news['url']\n",
    "        desc = news['description']\n",
    "        mensagem = f'{titulo}\\n{desc}\\n{link}'\n",
    "        print(mensagem)\n",
    "        print()\n",
    "except Exception as e:\n",
    "  print(f\"Não desta vez! Erro encontrado: {e}\")"
   ]
  }
 ],
 "metadata": {
  "colab": {
   "name": "APIsBasico.ipynb",
   "provenance": []
  },
  "kernelspec": {
   "display_name": "Python 3",
   "language": "python",
   "name": "python3"
  },
  "language_info": {
   "codemirror_mode": {
    "name": "ipython",
    "version": 3
   },
   "file_extension": ".py",
   "mimetype": "text/x-python",
   "name": "python",
   "nbconvert_exporter": "python",
   "pygments_lexer": "ipython3",
   "version": "3.7.4"
  }
 },
 "nbformat": 4,
 "nbformat_minor": 4
}
