{
 "cells": [
  {
   "cell_type": "markdown",
   "metadata": {
    "colab_type": "text",
    "id": "RD4wsfKJ4hm6"
   },
   "source": [
    "# ***>>> Métodos e Funções***\n",
    "\n",
    "---\n",
    "\n",
    "\n",
    "Linguagens de programação orientada a objetos possuem objetos que representam coisas no mundo real e a interação destas coisas no mundo real se dá através dos métodos e funções"
   ]
  },
  {
   "cell_type": "markdown",
   "metadata": {
    "colab_type": "text",
    "id": "RFJUp158p7qc"
   },
   "source": [
    "# **>>> Funções**\n",
    "\n",
    "---\n",
    "Podem ter parâmetros ou não, podendo devolver, ou não, quaisquer dados pois funções não lidam com classes e conceitos de instâncias.\n"
   ]
  },
  {
   "cell_type": "code",
   "execution_count": 1,
   "metadata": {
    "colab": {},
    "colab_type": "code",
    "id": "M6fsnE_P1OAO"
   },
   "outputs": [
    {
     "ename": "SyntaxError",
     "evalue": "unexpected EOF while parsing (<ipython-input-1-983a2617a5db>, line 3)",
     "output_type": "error",
     "traceback": [
      "\u001b[1;36m  File \u001b[1;32m\"<ipython-input-1-983a2617a5db>\"\u001b[1;36m, line \u001b[1;32m3\u001b[0m\n\u001b[1;33m    #insira aqui sua função\u001b[0m\n\u001b[1;37m                           ^\u001b[0m\n\u001b[1;31mSyntaxError\u001b[0m\u001b[1;31m:\u001b[0m unexpected EOF while parsing\n"
     ]
    }
   ],
   "source": [
    "# Estrutura básica de uma função\n",
    "def SuaFunção(a,b):\n",
    "  #insira aqui sua função"
   ]
  },
  {
   "cell_type": "code",
   "execution_count": 2,
   "metadata": {
    "colab": {},
    "colab_type": "code",
    "id": "gdinoTfh1VdS"
   },
   "outputs": [],
   "source": [
    "def Subtrair(a,b):\n",
    "  return a-b"
   ]
  },
  {
   "cell_type": "code",
   "execution_count": 3,
   "metadata": {
    "colab": {},
    "colab_type": "code",
    "id": "LMAIpoH01csI"
   },
   "outputs": [
    {
     "data": {
      "text/plain": [
       "99"
      ]
     },
     "execution_count": 3,
     "metadata": {},
     "output_type": "execute_result"
    }
   ],
   "source": [
    "Subtrair(100,1)"
   ]
  },
  {
   "cell_type": "markdown",
   "metadata": {
    "colab_type": "text",
    "id": "Cowh2hIMpnZZ"
   },
   "source": [
    "# **>>> Métodos** \n",
    "Todo método é uma função...!\n",
    "\n",
    "---"
   ]
  },
  {
   "cell_type": "code",
   "execution_count": 4,
   "metadata": {
    "colab": {},
    "colab_type": "code",
    "id": "WNcmka4J0-ou"
   },
   "outputs": [
    {
     "ename": "SyntaxError",
     "evalue": "unexpected EOF while parsing (<ipython-input-4-a85203d9404b>, line 3)",
     "output_type": "error",
     "traceback": [
      "\u001b[1;36m  File \u001b[1;32m\"<ipython-input-4-a85203d9404b>\"\u001b[1;36m, line \u001b[1;32m3\u001b[0m\n\u001b[1;33m    def SeuMetodo(self):\u001b[0m\n\u001b[1;37m                        ^\u001b[0m\n\u001b[1;31mSyntaxError\u001b[0m\u001b[1;31m:\u001b[0m unexpected EOF while parsing\n"
     ]
    }
   ],
   "source": [
    "# Estrutura básica de um método em python\n",
    "class SuaClasse:\n",
    "  def SeuMetodo(self):"
   ]
  },
  {
   "cell_type": "code",
   "execution_count": 5,
   "metadata": {
    "colab": {},
    "colab_type": "code",
    "id": "zk-jMCMoplHA"
   },
   "outputs": [
    {
     "name": "stdout",
     "output_type": "stream",
     "text": [
      "['__add__', '__class__', '__contains__', '__delattr__', '__dir__', '__doc__', '__eq__', '__format__', '__ge__', '__getattribute__', '__getitem__', '__getnewargs__', '__gt__', '__hash__', '__init__', '__init_subclass__', '__iter__', '__le__', '__len__', '__lt__', '__mod__', '__mul__', '__ne__', '__new__', '__reduce__', '__reduce_ex__', '__repr__', '__rmod__', '__rmul__', '__setattr__', '__sizeof__', '__str__', '__subclasshook__', 'capitalize', 'casefold', 'center', 'count', 'encode', 'endswith', 'expandtabs', 'find', 'format', 'format_map', 'index', 'isalnum', 'isalpha', 'isascii', 'isdecimal', 'isdigit', 'isidentifier', 'islower', 'isnumeric', 'isprintable', 'isspace', 'istitle', 'isupper', 'join', 'ljust', 'lower', 'lstrip', 'maketrans', 'partition', 'replace', 'rfind', 'rindex', 'rjust', 'rpartition', 'rsplit', 'rstrip', 'split', 'splitlines', 'startswith', 'strip', 'swapcase', 'title', 'translate', 'upper', 'zfill']\n"
     ]
    }
   ],
   "source": [
    "# dir() retorna a lista de todos métodos/atributos do objeto solicitado\n",
    "x = \"OLÁ, EU SOU UMA STRING!\"\n",
    "print(dir(x))\n",
    "\n",
    "# ou dir(str), afinal, python sabe que x é uma variável do tipo string"
   ]
  },
  {
   "cell_type": "code",
   "execution_count": 6,
   "metadata": {
    "colab": {},
    "colab_type": "code",
    "id": "83dTzILqq2J6"
   },
   "outputs": [
    {
     "name": "stdout",
     "output_type": "stream",
     "text": [
      "Help on method_descriptor:\n",
      "\n",
      "lower(self, /)\n",
      "    Return a copy of the string converted to lowercase.\n",
      "\n"
     ]
    }
   ],
   "source": [
    "# Help + método retorna o conceito e aplicação do método inserido\n",
    "help(str.lower)"
   ]
  },
  {
   "cell_type": "code",
   "execution_count": 7,
   "metadata": {
    "colab": {},
    "colab_type": "code",
    "id": "b2sKNrGsrekG"
   },
   "outputs": [
    {
     "name": "stdout",
     "output_type": "stream",
     "text": [
      "olá, eu sou uma string!\n"
     ]
    }
   ],
   "source": [
    "# Depois de listar os métodos com dir() e ler a documentação do mesmo com help() é hora de testar\n",
    "print(x.lower())"
   ]
  },
  {
   "cell_type": "markdown",
   "metadata": {
    "colab_type": "text",
    "id": "_ejYSAkd1ow3"
   },
   "source": [
    "# **>>> Funções Orientadas a Expressões**\n",
    "\n",
    "---\n",
    "\n",
    "Funções in-line, comumente usadas com map(), filter(), reduce(). Não são funções em bloco, mas sim funções curtas e escritas de formas simples."
   ]
  },
  {
   "cell_type": "markdown",
   "metadata": {
    "colab_type": "text",
    "id": "S2TDVngf1uyO"
   },
   "source": [
    "## **Lambda(função,sequência)**\n",
    "Cria função de forma rápida e anônima, sem o \"def\"..."
   ]
  },
  {
   "cell_type": "code",
   "execution_count": 8,
   "metadata": {
    "colab": {},
    "colab_type": "code",
    "id": "DEmOcWT81zF0"
   },
   "outputs": [
    {
     "name": "stdout",
     "output_type": "stream",
     "text": [
      "4\n"
     ]
    }
   ],
   "source": [
    "raiz = lambda x: x**2\n",
    "print(raiz(2))"
   ]
  },
  {
   "cell_type": "markdown",
   "metadata": {
    "colab_type": "text",
    "id": "2WUaSkSn2cTh"
   },
   "source": [
    "## **Map(função,sequência)**\n",
    "Mapeia e aplica uma função a todos elementos da sequência"
   ]
  },
  {
   "cell_type": "code",
   "execution_count": 9,
   "metadata": {
    "colab": {},
    "colab_type": "code",
    "id": "P-8n8Bx02i45"
   },
   "outputs": [
    {
     "name": "stdout",
     "output_type": "stream",
     "text": [
      "[1, 4, 9, 16, 25]\n"
     ]
    }
   ],
   "source": [
    "seq = [1,2,3,4,5]\n",
    "print(list(map(lambda x: x**2, seq)))"
   ]
  },
  {
   "cell_type": "markdown",
   "metadata": {
    "colab_type": "text",
    "id": "sPhXIkch2wo0"
   },
   "source": [
    "## **Reduce(função,sequência)**\n",
    "Aplica a sequência a uma função e reduz a um único valor final"
   ]
  },
  {
   "cell_type": "code",
   "execution_count": 10,
   "metadata": {
    "colab": {},
    "colab_type": "code",
    "id": "Lx3jjzQT25dT"
   },
   "outputs": [
    {
     "data": {
      "text/plain": [
       "120"
      ]
     },
     "execution_count": 10,
     "metadata": {},
     "output_type": "execute_result"
    }
   ],
   "source": [
    "from functools import reduce\n",
    "reduce((lambda x,y:x*y), [1,2,3,4,5])"
   ]
  },
  {
   "cell_type": "markdown",
   "metadata": {
    "colab_type": "text",
    "id": "ahVx2Jyb3H4B"
   },
   "source": [
    "## **Filter**\n",
    "Filtra os elementos da sequência que retornarem True"
   ]
  },
  {
   "cell_type": "code",
   "execution_count": 11,
   "metadata": {
    "colab": {},
    "colab_type": "code",
    "id": "RskR9Iss3Ntg"
   },
   "outputs": [
    {
     "name": "stdout",
     "output_type": "stream",
     "text": [
      "[-5, -4, -3, -2, -1]\n"
     ]
    }
   ],
   "source": [
    "seq = range(-5,5)\n",
    "negativos = list(filter(lambda x: x<0, seq))\n",
    "print(negativos)"
   ]
  },
  {
   "cell_type": "markdown",
   "metadata": {
    "colab_type": "text",
    "id": "Vqsd0wc63lzF"
   },
   "source": [
    "## **List Comprehension**\n",
    "Performance mais alta que o FOR, desenvolve loops de repetição dentro de sequências"
   ]
  },
  {
   "cell_type": "code",
   "execution_count": 12,
   "metadata": {
    "colab": {},
    "colab_type": "code",
    "id": "dz768UAq3vhk"
   },
   "outputs": [
    {
     "name": "stdout",
     "output_type": "stream",
     "text": [
      "[0, 3, 6, 9, 12, 15, 18, 21, 24, 27, 30]\n"
     ]
    }
   ],
   "source": [
    "mlt = [i for i in range(33) if i%3==0]\n",
    "print(mlt)"
   ]
  },
  {
   "cell_type": "markdown",
   "metadata": {
    "colab_type": "text",
    "id": "YHoQru-i8Wf3"
   },
   "source": [
    "## **Zip**\n",
    "Zipa 2 sequências retornando apenas uma com o numero de elementos da menor"
   ]
  },
  {
   "cell_type": "code",
   "execution_count": 13,
   "metadata": {
    "colab": {},
    "colab_type": "code",
    "id": "ZBN36jjM8lSj"
   },
   "outputs": [
    {
     "name": "stdout",
     "output_type": "stream",
     "text": [
      "[(1, 'um'), (2, 'dois'), (3, 'tres')]\n"
     ]
    }
   ],
   "source": [
    "seq1 = [1,2,3]\n",
    "seq2 = ['um','dois','tres']\n",
    "zipados = list(zip(seq1,seq2))\n",
    "print(zipados)"
   ]
  },
  {
   "cell_type": "markdown",
   "metadata": {
    "colab_type": "text",
    "id": "uvUonsDK85rC"
   },
   "source": [
    "## **Enumerate**\n",
    "Numera os valores com o índice de cada valor"
   ]
  },
  {
   "cell_type": "code",
   "execution_count": 14,
   "metadata": {
    "colab": {},
    "colab_type": "code",
    "id": "_-TtCU068-kh"
   },
   "outputs": [
    {
     "name": "stdout",
     "output_type": "stream",
     "text": [
      "(0, 1)\n",
      "(1, 2)\n",
      "(2, 3)\n",
      "(3, 4)\n"
     ]
    }
   ],
   "source": [
    "seq = [1,2,3,4]\n",
    "for x in enumerate(seq):\n",
    "    print(x)"
   ]
  },
  {
   "cell_type": "code",
   "execution_count": null,
   "metadata": {},
   "outputs": [],
   "source": []
  }
 ],
 "metadata": {
  "accelerator": "GPU",
  "colab": {
   "collapsed_sections": [],
   "name": "MétodoseFunções.ipynb",
   "private_outputs": true,
   "provenance": []
  },
  "kernelspec": {
   "display_name": "Python 3",
   "language": "python",
   "name": "python3"
  },
  "language_info": {
   "codemirror_mode": {
    "name": "ipython",
    "version": 3
   },
   "file_extension": ".py",
   "mimetype": "text/x-python",
   "name": "python",
   "nbconvert_exporter": "python",
   "pygments_lexer": "ipython3",
   "version": "3.7.4"
  }
 },
 "nbformat": 4,
 "nbformat_minor": 4
}
