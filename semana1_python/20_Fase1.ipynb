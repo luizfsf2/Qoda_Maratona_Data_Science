{
 "cells": [
  {
   "cell_type": "code",
   "execution_count": 24,
   "metadata": {},
   "outputs": [],
   "source": [
    "def pedir_float(texto):\n",
    "    while True:\n",
    "        try:    \n",
    "            return float(input(texto))\n",
    "        except ValueError:  \n",
    "            print('Não é um número!')"
   ]
  },
  {
   "cell_type": "code",
   "execution_count": 30,
   "metadata": {},
   "outputs": [],
   "source": [
    "def pedir_inteiro(texto):\n",
    "    while True:\n",
    "        try:    \n",
    "            return int(input(texto))\n",
    "        except ValueError:  \n",
    "            print('Não é um número inteiro!')"
   ]
  },
  {
   "cell_type": "markdown",
   "metadata": {
    "colab_type": "text",
    "id": "CYNAmoj4zSXl"
   },
   "source": [
    "**Crie um algoritmo em Python que mostre a mensagem \"Alo mundo\" na tela.**"
   ]
  },
  {
   "cell_type": "code",
   "execution_count": 1,
   "metadata": {
    "colab": {},
    "colab_type": "code",
    "id": "ViAfpy3GzPN-"
   },
   "outputs": [
    {
     "name": "stdout",
     "output_type": "stream",
     "text": [
      "Alô mundo!\n"
     ]
    }
   ],
   "source": [
    "print('Alô mundo!')"
   ]
  },
  {
   "cell_type": "markdown",
   "metadata": {
    "colab_type": "text",
    "id": "gdMis92izSmQ"
   },
   "source": [
    "**Crie um algoritmo em Python que peça dois números e imprima a soma.**"
   ]
  },
  {
   "cell_type": "code",
   "execution_count": 3,
   "metadata": {
    "colab": {},
    "colab_type": "code",
    "id": "BFpWkdCBz_zh"
   },
   "outputs": [
    {
     "name": "stdin",
     "output_type": "stream",
     "text": [
      "Primeira parcela:  a\n"
     ]
    },
    {
     "name": "stdout",
     "output_type": "stream",
     "text": [
      "Não é um número!\n"
     ]
    },
    {
     "name": "stdin",
     "output_type": "stream",
     "text": [
      "Primeira parcela:  30.3\n",
      "Segunda parcela:  45.7\n"
     ]
    },
    {
     "name": "stdout",
     "output_type": "stream",
     "text": [
      "A soma entre 30.3 e 45.7 é 76.0\n"
     ]
    }
   ],
   "source": [
    "p1 = pedir_float('Primeira parcela: ')\n",
    "p2 = pedir_float('Segunda parcela: ')   \n",
    "print(f'A soma entre {p1} e {p2} é {p1+p2}')        "
   ]
  },
  {
   "cell_type": "markdown",
   "metadata": {
    "colab_type": "text",
    "id": "E_0l_Vx6zSo2"
   },
   "source": [
    "**Crie um algoritmo em Python que peça um número e então mostre a mensagem O número informado foi [número].**"
   ]
  },
  {
   "cell_type": "code",
   "execution_count": 4,
   "metadata": {
    "colab": {},
    "colab_type": "code",
    "id": "KwJf7XZS0AZW"
   },
   "outputs": [
    {
     "name": "stdin",
     "output_type": "stream",
     "text": [
      "Número:  b\n"
     ]
    },
    {
     "name": "stdout",
     "output_type": "stream",
     "text": [
      "Não é um número!\n"
     ]
    },
    {
     "name": "stdin",
     "output_type": "stream",
     "text": [
      "Número:  45.8\n"
     ]
    },
    {
     "name": "stdout",
     "output_type": "stream",
     "text": [
      "O número informado foi 45.8\n"
     ]
    }
   ],
   "source": [
    "n = pedir_float('Número: ')          \n",
    "print(f'O número informado foi {n}')"
   ]
  },
  {
   "cell_type": "markdown",
   "metadata": {
    "colab_type": "text",
    "id": "1i4VCiiczSrL"
   },
   "source": [
    "**Crie um algoritmo em Python que converta metros para centímetros.**"
   ]
  },
  {
   "cell_type": "code",
   "execution_count": 8,
   "metadata": {
    "colab": {},
    "colab_type": "code",
    "id": "yoW67hjA0BHy"
   },
   "outputs": [
    {
     "name": "stdout",
     "output_type": "stream",
     "text": [
      "Conversor m -> cm\n",
      "\n",
      "\n"
     ]
    },
    {
     "name": "stdin",
     "output_type": "stream",
     "text": [
      "Medida(m):  1.83\n"
     ]
    },
    {
     "name": "stdout",
     "output_type": "stream",
     "text": [
      "1.83m = 183.0cm\n"
     ]
    }
   ],
   "source": [
    "print('Conversor m -> cm\\n\\n')\n",
    "\n",
    "m = pedir_float('Medida(m): ') \n",
    "print(f'{m}m = {m*100}cm')        "
   ]
  },
  {
   "cell_type": "markdown",
   "metadata": {
    "colab_type": "text",
    "id": "4ep7kezvzStO"
   },
   "source": [
    "**Crie um algoritmo em Python que peça as 4 notas bimestrais e mostre a média.**"
   ]
  },
  {
   "cell_type": "code",
   "execution_count": 15,
   "metadata": {
    "colab": {},
    "colab_type": "code",
    "id": "6K6IHWdr0Blt"
   },
   "outputs": [
    {
     "name": "stdout",
     "output_type": "stream",
     "text": [
      "Calculador de médias\n",
      "\n",
      "\n",
      "Insira as notas dos 4 bimestres.\n",
      "\n",
      "\n"
     ]
    },
    {
     "name": "stdin",
     "output_type": "stream",
     "text": [
      "Nota 1º bimestre:  7\n",
      "Nota 2º bimestre:  6.5\n",
      "Nota 3º bimestre:  8\n",
      "Nota 4º bimestre:  10\n"
     ]
    },
    {
     "name": "stdout",
     "output_type": "stream",
     "text": [
      "A média das notas 7.0, 6.5, 8.0 e 10.0 é 7.9.\n"
     ]
    }
   ],
   "source": [
    "print('Calculador de médias\\n\\n')\n",
    "print('Insira as notas dos 4 bimestres.\\n\\n')\n",
    "notas = []\n",
    "for i in range(1,5):\n",
    "    notas.append(pedir_float(f'Nota {i}º bimestre: '))\n",
    "            \n",
    "media = sum(notas)/len(notas)\n",
    "                  \n",
    "notas_txt =  f'{notas[0]}, {notas[1]}, {notas[2]} e {notas[3]}'                  \n",
    "print(f'A média das notas {notas_txt} é {media:.1f}.')                      "
   ]
  },
  {
   "cell_type": "markdown",
   "metadata": {
    "colab_type": "text",
    "id": "u6__NaXqzeYg"
   },
   "source": [
    "**Crie um algoritmo em Python que peça o raio de um círculo, calcule e mostre sua área.**"
   ]
  },
  {
   "cell_type": "code",
   "execution_count": 18,
   "metadata": {
    "colab": {},
    "colab_type": "code",
    "id": "mm2L7g3x0Cfx"
   },
   "outputs": [
    {
     "name": "stdout",
     "output_type": "stream",
     "text": [
      "Calculador de área de círculo\n",
      "\n",
      "\n"
     ]
    },
    {
     "name": "stdin",
     "output_type": "stream",
     "text": [
      "Raio:  10\n"
     ]
    },
    {
     "name": "stdout",
     "output_type": "stream",
     "text": [
      "A área do círculo de raio 10.0 é 314.16\n"
     ]
    }
   ],
   "source": [
    "import math\n",
    "print('Calculador de área de círculo\\n\\n')\n",
    "  \n",
    "raio = pedir_float((f'Raio: '))\n",
    "area =  math.pi * raio ** 2         \n",
    "print(f'A área do círculo de raio {raio} é {area:.2f}')        "
   ]
  },
  {
   "cell_type": "markdown",
   "metadata": {
    "colab_type": "text",
    "id": "lIlfG-ATzgOr"
   },
   "source": [
    "**Crie um algoritmo em Python que calcule a área de um quadrado, em seguida mostre o dobro desta área para o usuário.**"
   ]
  },
  {
   "cell_type": "code",
   "execution_count": 20,
   "metadata": {
    "colab": {},
    "colab_type": "code",
    "id": "-y4pB6br0DD_"
   },
   "outputs": [
    {
     "name": "stdout",
     "output_type": "stream",
     "text": [
      "Calculador de dobro da área de quadrado\n",
      "\n",
      "\n"
     ]
    },
    {
     "name": "stdin",
     "output_type": "stream",
     "text": [
      "Medida do lado do quadrado:  f\n"
     ]
    },
    {
     "name": "stdout",
     "output_type": "stream",
     "text": [
      "Valor inválido\n"
     ]
    },
    {
     "name": "stdin",
     "output_type": "stream",
     "text": [
      "Medida do lado do quadrado:  4.5\n"
     ]
    },
    {
     "name": "stdout",
     "output_type": "stream",
     "text": [
      "O dobro da área do quadrado de lado 4.5 é 40.50\n"
     ]
    }
   ],
   "source": [
    "print('Calculador de dobro da área de quadrado\\n\\n')\n",
    "\n",
    "        \n",
    "lado = pedir_float(f'Medida do lado do quadrado: ')\n",
    "area =  lado ** 2     \n",
    "print(f'O dobro da área do quadrado de lado {lado} é {area * 2:.2f}')    "
   ]
  },
  {
   "cell_type": "markdown",
   "metadata": {
    "colab_type": "text",
    "id": "Vj4OXsJQziu_"
   },
   "source": [
    "**Crie um algoritmo em Python que pergunte quanto você ganha por hora e o número de horas trabalhadas no mês. Calcule e mostre o total do seu salário no referido mês.**\n"
   ]
  },
  {
   "cell_type": "code",
   "execution_count": 25,
   "metadata": {},
   "outputs": [
    {
     "name": "stdin",
     "output_type": "stream",
     "text": [
      "Quanto ganhas por hora?\n",
      "  25\n",
      "Quantas horas trabalhou no mês?\n",
      "  320\n"
     ]
    },
    {
     "name": "stdout",
     "output_type": "stream",
     "text": [
      "Valor/h: 25.0\n",
      "Horas no mês: 320.0\n",
      "Salário mensal: 8000.0\n"
     ]
    }
   ],
   "source": [
    "valor_por_hora = pedir_float(f'Quanto ganhas por hora?\\n ')\n",
    "horas_trabalhadas = pedir_float(f'Quantas horas trabalhou no mês?\\n ')\n",
    "\n",
    "salario_mensal = valor_por_hora * horas_trabalhadas\n",
    "print(f'Valor/h: {valor_por_hora}\\n' +\n",
    "      f'Horas no mês: {horas_trabalhadas}\\n'+\n",
    "      f'Salário mensal: {salario_mensal}')"
   ]
  },
  {
   "cell_type": "markdown",
   "metadata": {
    "colab_type": "text",
    "id": "e7id8Ewgzlow"
   },
   "source": [
    "**Crie um algoritmo em Python que peça a temperatura em graus Farenheit, transforme e mostre a temperatura em graus Celsius.**\n",
    "C = (5 * (F-32) / 9)."
   ]
  },
  {
   "cell_type": "code",
   "execution_count": 27,
   "metadata": {
    "colab": {},
    "colab_type": "code",
    "id": "Kl0ainsv0Eif"
   },
   "outputs": [
    {
     "name": "stdin",
     "output_type": "stream",
     "text": [
      "Temperatura (F):  d\n"
     ]
    },
    {
     "name": "stdout",
     "output_type": "stream",
     "text": [
      "Não é um número!\n"
     ]
    },
    {
     "name": "stdin",
     "output_type": "stream",
     "text": [
      "Temperatura (F):  80\n"
     ]
    },
    {
     "name": "stdout",
     "output_type": "stream",
     "text": [
      "80.0ºF = 26.666666666666668ºC\n"
     ]
    }
   ],
   "source": [
    "temp_em_fht = pedir_float('Temperatura(ºF): ')\n",
    "temp_em_celsius = 5 * (temp_em_fht-32) / 9\n",
    "\n",
    "print(f'{temp_em_fht}ºF = {temp_em_celsius}ºC')"
   ]
  },
  {
   "cell_type": "markdown",
   "metadata": {
    "colab_type": "text",
    "id": "mFCgXRPaznno"
   },
   "source": [
    "**Crie um algoritmo em Python que peça a temperatura em graus Celsius, transforme e mostre em graus Farenheit.**"
   ]
  },
  {
   "cell_type": "code",
   "execution_count": 29,
   "metadata": {
    "colab": {},
    "colab_type": "code",
    "id": "xEAAHRi00FS8"
   },
   "outputs": [
    {
     "name": "stdin",
     "output_type": "stream",
     "text": [
      "Temperatura(ºC):  26\n"
     ]
    },
    {
     "name": "stdout",
     "output_type": "stream",
     "text": [
      "26.0ºC = 78.8ºF\n"
     ]
    }
   ],
   "source": [
    "# INSIRA SEU CÓDIGO AQUI\n",
    "\n",
    "temp_em_celsius = pedir_float('Temperatura(ºC): ')\n",
    "temp_em_fht = 9 * temp_em_celsius / 5 + 32\n",
    "\n",
    "print(f'{temp_em_celsius}ºC = {temp_em_fht}ºF')"
   ]
  },
  {
   "cell_type": "markdown",
   "metadata": {
    "colab_type": "text",
    "id": "j3fdhu-8zqu9"
   },
   "source": [
    "**Crie um algoritmo em Python que peça 2 números inteiros e um número real. Calcule e mostre:**\n",
    "* a soma do dobro do primeiro com metade do segundo .\n",
    "* a soma do triplo do primeiro com o terceiro.\n",
    "* o terceiro elevado ao cubo."
   ]
  },
  {
   "cell_type": "code",
   "execution_count": 32,
   "metadata": {
    "colab": {},
    "colab_type": "code",
    "id": "ZEqZrKjt0F5B"
   },
   "outputs": [
    {
     "name": "stdin",
     "output_type": "stream",
     "text": [
      "1º nro.(inteiro):  8\n",
      "2º nro.(inteiro):  2\n",
      "3º nro.(real):  1.5\n"
     ]
    },
    {
     "name": "stdout",
     "output_type": "stream",
     "text": [
      "\n",
      "A soma do dobro do primeiro com metade do segundo é: 17.0\n",
      "\n",
      "A soma do triplo do primeiro com o terceiro é: 25.5\n",
      "\n",
      "O terceiro elevado ao cubo: 3.375\n"
     ]
    }
   ],
   "source": [
    "i1 = pedir_inteiro('1º nro.(inteiro): ')\n",
    "i2 = pedir_inteiro('2º nro.(inteiro): ')\n",
    "r = pedir_float('3º nro.(real): ')\n",
    "\n",
    "resultado = i1 * 2 + i2 /2\n",
    "print(f'\\nA soma do dobro do primeiro com metade do segundo é: {resultado}' )\n",
    "\n",
    "resultado = i1 *3 + r\n",
    "print(f'\\nA soma do triplo do primeiro com o terceiro é: {resultado}')\n",
    "\n",
    "resultado = r ** 3\n",
    "print(f'\\nO terceiro elevado ao cubo: {resultado}')\n",
    "\n"
   ]
  },
  {
   "cell_type": "code",
   "execution_count": null,
   "metadata": {},
   "outputs": [],
   "source": []
  }
 ],
 "metadata": {
  "colab": {
   "name": "Fase1.ipynb",
   "provenance": []
  },
  "kernelspec": {
   "display_name": "Python 3",
   "language": "python",
   "name": "python3"
  },
  "language_info": {
   "codemirror_mode": {
    "name": "ipython",
    "version": 3
   },
   "file_extension": ".py",
   "mimetype": "text/x-python",
   "name": "python",
   "nbconvert_exporter": "python",
   "pygments_lexer": "ipython3",
   "version": "3.7.4"
  }
 },
 "nbformat": 4,
 "nbformat_minor": 4
}
