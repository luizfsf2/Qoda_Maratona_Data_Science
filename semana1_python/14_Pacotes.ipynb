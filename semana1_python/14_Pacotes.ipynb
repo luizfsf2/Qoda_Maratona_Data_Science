{
 "cells": [
  {
   "cell_type": "markdown",
   "metadata": {
    "colab_type": "text",
    "id": "baxGZ5L1Ed8T"
   },
   "source": [
    "# **>>> Pacotes(libs)**\n",
    "\n",
    "---\n",
    "\n"
   ]
  },
  {
   "cell_type": "code",
   "execution_count": null,
   "metadata": {
    "colab": {},
    "colab_type": "code",
    "id": "68VEADzyEayX"
   },
   "outputs": [],
   "source": [
    "# Antes de importar o módulo/pacote para seu código, ele precisa estar instalado\n",
    "!pip install nltk\n",
    "\n",
    "# em seu terminal você deve usar \"pip install <nome do pacote>\" ou \"conda install <nome do pacote>\""
   ]
  },
  {
   "cell_type": "code",
   "execution_count": null,
   "metadata": {
    "colab": {},
    "colab_type": "code",
    "id": "myoEzz0YFFlV"
   },
   "outputs": [],
   "source": [
    "# Pacotes Built-in\n",
    "import random\n",
    "import os \n",
    "import math"
   ]
  },
  {
   "cell_type": "code",
   "execution_count": null,
   "metadata": {
    "colab": {},
    "colab_type": "code",
    "id": "fKx1x8-7FaNl"
   },
   "outputs": [],
   "source": [
    "# Listar os módulos de random\n",
    "dir(random)"
   ]
  },
  {
   "cell_type": "code",
   "execution_count": null,
   "metadata": {
    "colab": {},
    "colab_type": "code",
    "id": "Gxva0g_qFlkD"
   },
   "outputs": [],
   "source": [
    "# Testar um de seus módulos\n",
    "print(random.choices([\"Windows\",\"Linux\",\"MacOS\"]))"
   ]
  },
  {
   "cell_type": "code",
   "execution_count": null,
   "metadata": {
    "colab": {},
    "colab_type": "code",
    "id": "m_oK91AcGE2v"
   },
   "outputs": [],
   "source": [
    "# Listar os módulos de os\n",
    "dir(os)"
   ]
  },
  {
   "cell_type": "code",
   "execution_count": null,
   "metadata": {
    "colab": {},
    "colab_type": "code",
    "id": "RrvpstplGM71"
   },
   "outputs": [],
   "source": [
    "# Testando um de seus módulos\n",
    "os.getcwd()"
   ]
  },
  {
   "cell_type": "code",
   "execution_count": null,
   "metadata": {
    "colab": {},
    "colab_type": "code",
    "id": "ZcD699V5GULn"
   },
   "outputs": [],
   "source": [
    "# Listar os módulos de math\n",
    "dir(math)"
   ]
  },
  {
   "cell_type": "code",
   "execution_count": null,
   "metadata": {
    "colab": {},
    "colab_type": "code",
    "id": "kimd_K03GZZV"
   },
   "outputs": [],
   "source": [
    "print(math.pi)"
   ]
  }
 ],
 "metadata": {
  "colab": {
   "collapsed_sections": [],
   "name": "Pacotes.ipynb",
   "provenance": []
  },
  "kernelspec": {
   "display_name": "Python 3",
   "language": "python",
   "name": "python3"
  },
  "language_info": {
   "codemirror_mode": {
    "name": "ipython",
    "version": 3
   },
   "file_extension": ".py",
   "mimetype": "text/x-python",
   "name": "python",
   "nbconvert_exporter": "python",
   "pygments_lexer": "ipython3",
   "version": "3.7.4"
  }
 },
 "nbformat": 4,
 "nbformat_minor": 4
}
