{
 "cells": [
  {
   "cell_type": "markdown",
   "metadata": {
    "colab_type": "text",
    "id": "g1uN_eyr779z"
   },
   "source": [
    "# **>>> Arquivos**\n",
    "\n",
    "---\n",
    "\n"
   ]
  },
  {
   "cell_type": "markdown",
   "metadata": {
    "colab_type": "text",
    "id": "FbyIYvUQqSJo"
   },
   "source": [
    "## **Upload de arquivos do seu sistema de arquivos local**\n",
    "\n",
    "---\n",
    "\n",
    "\n",
    "files.upload retorna um dicionário dos arquivos que foram enviados. O dicionário é digitado pelo nome do arquivo e os valores são os dados que foram enviados."
   ]
  },
  {
   "cell_type": "code",
   "execution_count": null,
   "metadata": {
    "colab": {},
    "colab_type": "code",
    "id": "FamCSHZNqldk"
   },
   "outputs": [],
   "source": [
    "from google.colab import files\n",
    "up = files.upload()"
   ]
  },
  {
   "cell_type": "code",
   "execution_count": null,
   "metadata": {
    "colab": {},
    "colab_type": "code",
    "id": "PATvmSx477Y1"
   },
   "outputs": [],
   "source": [
    "arq1 = open(\"arquivodetexto.txt\", \"r\")\n",
    "print(arq1.read())"
   ]
  },
  {
   "cell_type": "markdown",
   "metadata": {
    "colab_type": "text",
    "id": "Vc6LLs-zLrRz"
   },
   "source": [
    "# **Upload direto do Google Drive**\n",
    "\n",
    "---\n",
    "\n",
    "O exemplo abaixo mostra como acessar seu Google Drive usando um código de autorização e como gravar/ler arquivos ele. Uma vez executado, você poderá ver o novo arquivo (foo.txt) em https://drive.google.com/.\n",
    "\n",
    "Observe que isso apenas suporta leitura, gravação e movimentação de arquivos; Para modificar programaticamente as configurações de compartilhamento ou outros metadados, use uma das outras opções abaixo."
   ]
  },
  {
   "cell_type": "code",
   "execution_count": null,
   "metadata": {
    "colab": {},
    "colab_type": "code",
    "id": "xVN3o9h2Lvm8"
   },
   "outputs": [],
   "source": [
    "from google.colab import drive\n",
    "drive.mount('/content/drive')"
   ]
  },
  {
   "cell_type": "markdown",
   "metadata": {
    "colab_type": "text",
    "id": "LgHJw8ZQ7hlE"
   },
   "source": [
    "# **>>> Modos de abertura**\n",
    "\n",
    "---\n",
    "\n",
    "\n",
    ">Modo | Descrição\n",
    ">--- | ---\n",
    ">r | Abre o arquivo para leitura(caso não exista, cria-o). Posição: início do arquivo.\n",
    ">r+ | Abre o arquivo para leitura e escrita(caso não exista, cria-o). Posição: início do arquivo.\n",
    ">w | Se o arquivo existir, ele é aberto para escrita e o seu conteúdo apagado(caso não exista, cria-o). Posição: início do arquivo.\n",
    ">w+ | Se o arquivo existir, ele é aberto para escrita/leitura e o seu conteúdo apagado(caso não exista, cria-o). Posição: início do arquivo.\n",
    ">a | Se o arquivo existir, ele é aberto para escrita(caso não exista, cria-o). Posição: final do arquivo.\n",
    ">a+ | Se o arquivo existir, ele é aberto para escrita e leitura(caso não exista, cria-o). Posição: final do arquivo."
   ]
  },
  {
   "cell_type": "markdown",
   "metadata": {
    "colab_type": "text",
    "id": "qNbbFKUR22nG"
   },
   "source": [
    "# **>>> Contar Caracteres**\n",
    "\n",
    "---\n",
    "\n"
   ]
  },
  {
   "cell_type": "code",
   "execution_count": null,
   "metadata": {
    "colab": {},
    "colab_type": "code",
    "id": "wKfmyR402pQf"
   },
   "outputs": [],
   "source": [
    "# Você pode contar o número de caracteres do arquivo \n",
    "print(arq1.tell())\n",
    "arq1.close() #não esqueça de sempre fechar o arquivo"
   ]
  },
  {
   "cell_type": "markdown",
   "metadata": {
    "colab_type": "text",
    "id": "nCue_Dd527GA"
   },
   "source": [
    "# **>>> Gravar arquivos**\n",
    "\n",
    "---\n",
    "\n"
   ]
  },
  {
   "cell_type": "code",
   "execution_count": null,
   "metadata": {
    "colab": {},
    "colab_type": "code",
    "id": "ON2YEuo62qzP"
   },
   "outputs": [],
   "source": [
    "arquivo = open(\"arquivodetexto.txt\", \"w\")\n",
    "arquivo.write(\"Nova linha inserida via Python.\")\n",
    "arquivo.close() #não esqueça de sempre fechar o arquivo"
   ]
  },
  {
   "cell_type": "code",
   "execution_count": null,
   "metadata": {
    "colab": {},
    "colab_type": "code",
    "id": "0vlwWuUi2sWX"
   },
   "outputs": [],
   "source": [
    "arquivo = open(\"arquivodetexto.txt\", \"r\")\n",
    "print(arquivo.read())\n",
    "arquivo.close()"
   ]
  },
  {
   "cell_type": "markdown",
   "metadata": {
    "colab_type": "text",
    "id": "UqclyhET2_2v"
   },
   "source": [
    "# **>>> Acrescentando com o append**\n",
    "\n",
    "---\n",
    "\n"
   ]
  },
  {
   "cell_type": "code",
   "execution_count": null,
   "metadata": {
    "colab": {},
    "colab_type": "code",
    "id": "Fkv0NFEK2te3"
   },
   "outputs": [],
   "source": [
    "arquivo3 = open(\"arquivodetexto.txt\", \"a\")\n",
    "arquivo3.write(\"Nova linha inserida\")\n",
    "arquivo3.close()"
   ]
  },
  {
   "cell_type": "code",
   "execution_count": null,
   "metadata": {
    "colab": {},
    "colab_type": "code",
    "id": "MmRY8k4MDdLW"
   },
   "outputs": [],
   "source": [
    "arquivo3 = open(\"arquivodetexto.txt\", \"r\")\n",
    "print(arquivo3.read())\n",
    "arquivo3.close()"
   ]
  },
  {
   "cell_type": "markdown",
   "metadata": {
    "colab_type": "text",
    "id": "uj5VXqTa3DU3"
   },
   "source": [
    "# **>>> Usando o with**\n",
    "\n",
    "---\n",
    "\n"
   ]
  },
  {
   "cell_type": "code",
   "execution_count": null,
   "metadata": {
    "colab": {},
    "colab_type": "code",
    "id": "VV7XD7qI2uyX"
   },
   "outputs": [],
   "source": [
    "with open(\"teste.txt\",\"w\") as arq:\n",
    "\tarq.write(\"Apenas testando...\")"
   ]
  },
  {
   "cell_type": "code",
   "execution_count": null,
   "metadata": {
    "colab": {},
    "colab_type": "code",
    "id": "_kx_8BK16Bk7"
   },
   "outputs": [],
   "source": [
    "# com with não é necessário usar o close()\n",
    "with open(\"teste.txt\",\"r\") as arq2:\n",
    "\tprint(arq2.read())"
   ]
  }
 ],
 "metadata": {
  "accelerator": "GPU",
  "colab": {
   "name": "Arquivos.ipynb",
   "private_outputs": true,
   "provenance": []
  },
  "kernelspec": {
   "display_name": "Python 3",
   "language": "python",
   "name": "python3"
  },
  "language_info": {
   "codemirror_mode": {
    "name": "ipython",
    "version": 3
   },
   "file_extension": ".py",
   "mimetype": "text/x-python",
   "name": "python",
   "nbconvert_exporter": "python",
   "pygments_lexer": "ipython3",
   "version": "3.7.4"
  }
 },
 "nbformat": 4,
 "nbformat_minor": 4
}
