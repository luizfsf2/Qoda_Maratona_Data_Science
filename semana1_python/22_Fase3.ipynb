{
 "cells": [
  {
   "cell_type": "code",
   "execution_count": 1,
   "metadata": {},
   "outputs": [],
   "source": [
    "def obter_float(texto, validador = None):\n",
    "    while True:\n",
    "        try:      \n",
    "            value = float(input(texto))       \n",
    "\n",
    "        except:\n",
    "            print('Valor incorreto.\\n')\n",
    "            \n",
    "        else:\n",
    "            if (not validador is None):\n",
    "                ret_value = validador(value)\n",
    "                if not ret_value:\n",
    "                    continue\n",
    "                    \n",
    "            return value  \n",
    "                \n",
    "            \n",
    "def obter_int(texto, validador = None):\n",
    "    while True:\n",
    "        try:      \n",
    "            value = int(input(texto))       \n",
    "\n",
    "        except:\n",
    "            print('Valor incorreto.\\n')\n",
    "            \n",
    "        else:\n",
    "            if (not validador is None):\n",
    "                ret_value = validador(value)\n",
    "                if not ret_value:\n",
    "                    continue\n",
    "                    \n",
    "            return value  "
   ]
  },
  {
   "cell_type": "markdown",
   "metadata": {
    "colab_type": "text",
    "id": "CYNAmoj4zSXl"
   },
   "source": [
    "# Ex. 1\n",
    "\n",
    "**Crie um algoritmo em Python que peça uma nota, entre zero e 100. Mostre uma mensagem caso o valor seja inválido e continue pedindo até que o usuário informe um valor válido.**"
   ]
  },
  {
   "cell_type": "code",
   "execution_count": 4,
   "metadata": {
    "colab": {},
    "colab_type": "code",
    "id": "ViAfpy3GzPN-"
   },
   "outputs": [
    {
     "name": "stdin",
     "output_type": "stream",
     "text": [
      "Nota (0-100):  a\n"
     ]
    },
    {
     "name": "stdout",
     "output_type": "stream",
     "text": [
      "Valor incorreto!\n",
      "\n"
     ]
    },
    {
     "name": "stdin",
     "output_type": "stream",
     "text": [
      "Nota (0-100):  1010\n"
     ]
    },
    {
     "name": "stdout",
     "output_type": "stream",
     "text": [
      "A nota deve estar entre 0 e 100\n",
      "\n"
     ]
    },
    {
     "name": "stdin",
     "output_type": "stream",
     "text": [
      "Nota (0-100):  53\n"
     ]
    },
    {
     "name": "stdout",
     "output_type": "stream",
     "text": [
      "Valor correto! (53)\n"
     ]
    }
   ],
   "source": [
    "while True:\n",
    "    try:\n",
    "        nota = int(input('Nota (0-100): '))\n",
    "        if 0 < nota < 100:\n",
    "            break\n",
    "        print('A nota deve estar entre 0 e 100\\n')\n",
    "       \n",
    "    except:\n",
    "        print('Valor incorreto!\\n')\n",
    "        \n",
    "print(f\"Valor correto! ({nota})\")        "
   ]
  },
  {
   "cell_type": "markdown",
   "metadata": {
    "colab_type": "text",
    "id": "gdMis92izSmQ"
   },
   "source": [
    "# Ex. 2\n",
    "\n",
    "**Crie um algoritmo em Python que leia um nome de usuário e a sua senha e não aceite a senha igual ao nome do usuário, mostrando uma mensagem de erro e voltando a pedir as informações.**"
   ]
  },
  {
   "cell_type": "code",
   "execution_count": 6,
   "metadata": {
    "colab": {},
    "colab_type": "code",
    "id": "BFpWkdCBz_zh"
   },
   "outputs": [
    {
     "name": "stdin",
     "output_type": "stream",
     "text": [
      "Usuário:  luiz\n",
      "Senha:  luiz\n"
     ]
    },
    {
     "name": "stdout",
     "output_type": "stream",
     "text": [
      "O usuário deve ser diferente da senha.\n"
     ]
    },
    {
     "name": "stdin",
     "output_type": "stream",
     "text": [
      "Usuário:  luiz\n",
      "Senha:  senha\n"
     ]
    },
    {
     "name": "stdout",
     "output_type": "stream",
     "text": [
      "Cadastro efetuado com sucesso\n"
     ]
    }
   ],
   "source": [
    "login = {}\n",
    "\n",
    "while True:\n",
    "    login['usuario'] = input(\"Usuário: \")\n",
    "    login['senha'] = input(\"Senha: \")\n",
    "    if login['usuario'] != login['senha']:\n",
    "        break\n",
    "    print(\"O usuário deve ser diferente da senha.\\n\")\n",
    "    \n",
    "print('Cadastro efetuado com sucesso')        "
   ]
  },
  {
   "cell_type": "markdown",
   "metadata": {
    "colab_type": "text",
    "id": "E_0l_Vx6zSo2"
   },
   "source": [
    "# Ex. 3\n",
    "\n",
    "**Crie um algoritmo em Python que leia e valide as seguintes informações:**\n",
    "* Nome: maior que 3 caracteres;\n",
    "* Idade: entre 0 e 150;\n",
    "* Salário: maior que zero;\n",
    "* Sexo: 'f' ou 'm';\n",
    "* Estado Civil: 's', 'c', 'v', 'd';"
   ]
  },
  {
   "cell_type": "code",
   "execution_count": 33,
   "metadata": {
    "colab": {},
    "colab_type": "code",
    "id": "KwJf7XZS0AZW"
   },
   "outputs": [
    {
     "name": "stdin",
     "output_type": "stream",
     "text": [
      "Nome:  Luiz\n",
      "Idade (0-150):  18\n",
      "Salário:  30000\n",
      "Sexo(m/f):  m\n"
     ]
    },
    {
     "name": "stdout",
     "output_type": "stream",
     "text": [
      "\n"
     ]
    },
    {
     "name": "stdin",
     "output_type": "stream",
     "text": [
      "Estado civil((s)olteiro(a), (c)asado(a), (v)iúvo(a),(d)ivorciado(a) ):\n",
      " s\n"
     ]
    },
    {
     "data": {
      "text/plain": [
       "{'nome': 'Luiz',\n",
       " 'idade': 18,\n",
       " 'salario': 30000.0,\n",
       " 'sexo': 'm',\n",
       " 'estado_civil': 's'}"
      ]
     },
     "execution_count": 33,
     "metadata": {},
     "output_type": "execute_result"
    }
   ],
   "source": [
    "cadastro = {}\n",
    "\n",
    "while True:\n",
    "    nome = input(\"Nome: \")\n",
    "    if not nome.replace(' ', '').isalpha():\n",
    "        print('Apenas letras e espaços são aceitos\\n')\n",
    "        continue\n",
    "    \n",
    "    if len(nome) <= 3:        \n",
    "        print('Nome deve ter pelo menos 4 caracteres\\n')\n",
    "        continue\n",
    "        \n",
    "    cadastro['nome'] = nome    \n",
    "    break    \n",
    "\n",
    "    \n",
    "def _validador_idade(idade):\n",
    "    if not 0 <= idade <= 150:\n",
    "        print('Valor fora do intervalo.\\n') \n",
    "        return False\n",
    "    return True\n",
    "cadastro['idade']  = obter_int(\"Idade (0-150): \", _validador_idade) \n",
    "\n",
    "def _validador_salario(salario):\n",
    "    if salario < 0:\n",
    "        print('Não existe salário negativo!\\n') \n",
    "        return False\n",
    "    return True        \n",
    "cadastro['salario'] = obter_float(\"Salário: \", _validador_salario)        \n",
    "        \n",
    "        \n",
    "while True:\n",
    "    try:\n",
    "        sexo = input(\"Sexo(m/f): \")       \n",
    "                \n",
    "    except:\n",
    "        print('Valor incorreto.\\n')    \n",
    "\n",
    "    else:\n",
    "        print()\n",
    "        if not (sexo.lower() in 'mf') or len(sexo) != 1:\n",
    "            print('Valor inválido!\\nEscolha \"m\" ou \"f\"\\n')  \n",
    "            continue\n",
    "            \n",
    "        cadastro['sexo'] = sexo\n",
    "        break\n",
    "            \n",
    "while True:\n",
    "    try:\n",
    "        estado_civil = input(\"Estado civil((s)olteiro(a), (c)asado(a), (v)iúvo(a),(d)ivorciado(a) ):\\n\")       \n",
    "                \n",
    "    except:\n",
    "        print('Valor incorreto.\\n')    \n",
    "\n",
    "    else:\n",
    "        if not (estado_civil.lower() in 'scvd') or len(sexo) != 1:\n",
    "            print('Valor inválido!\\nEscolha:\\n' +  \n",
    "                  '  [s]olteiro(a)\\n  [c]asado(a)\\n  [v]iúvo(a)\\n  [d]ivorciado(a)\\n')  \n",
    "            continue\n",
    "            \n",
    "        cadastro['estado_civil'] = estado_civil\n",
    "        break       \n",
    "        \n",
    "cadastro        "
   ]
  },
  {
   "cell_type": "markdown",
   "metadata": {
    "colab_type": "text",
    "id": "1i4VCiiczSrL"
   },
   "source": [
    "# Ex. 4\n",
    "\n",
    "**Supondo que a população de um país A seja da ordem de 80.000 habitantes com uma taxa anual de crescimento de 3% e que a população de B seja 200.000 habitantes com uma taxa de crescimento de 1.5%.**\n",
    "\n",
    "Crie um algoritmo em Python que calcule e escreva o número de anos necessários para que a população do país A ultrapasse ou iguale a população do país B, mantidas as taxas de crescimento."
   ]
  },
  {
   "cell_type": "markdown",
   "metadata": {},
   "source": [
    "**Solução matemática:**\n",
    "\n",
    "$A\\cdot 1,03 ^ x > B\\cdot 1,015^x$ \n",
    "\n",
    "$\\frac{A}{B} > \\frac{1,015^x}{1,03 ^ x}$ \n",
    "\n",
    "$\\frac{A}{B} > \\left (\\frac{1,015}{1,03}  \\right ) ^ x$ \n",
    "\n",
    "$\\frac{80.000}{200.000} > \\left (\\frac{1,015}{1,03}  \\right ) ^ x$\n",
    "\n",
    "$\\frac{4}{10} > \\left (\\frac{1,015}{1,03}  \\right ) ^ x$\n",
    "\n",
    "$\\log_{\\frac{1,015}{1,03}}0.4 > x$\n"
   ]
  },
  {
   "cell_type": "code",
   "execution_count": 26,
   "metadata": {},
   "outputs": [
    {
     "data": {
      "text/plain": [
       "62.459364713530675"
      ]
     },
     "execution_count": 26,
     "metadata": {},
     "output_type": "execute_result"
    }
   ],
   "source": [
    "import math\n",
    "\n",
    "math.log(80000/200000, (1.015/1.03))"
   ]
  },
  {
   "cell_type": "markdown",
   "metadata": {},
   "source": [
    "**Solução computacional (à força):**"
   ]
  },
  {
   "cell_type": "code",
   "execution_count": 10,
   "metadata": {
    "colab": {},
    "colab_type": "code",
    "id": "yoW67hjA0BHy"
   },
   "outputs": [
    {
     "data": {
      "text/plain": [
       "63"
      ]
     },
     "execution_count": 10,
     "metadata": {},
     "output_type": "execute_result"
    }
   ],
   "source": [
    "pop_A = 80000\n",
    "pop_B = 200000\n",
    "anos = 0\n",
    "while pop_A < pop_B:\n",
    "    pop_A *= 1.03\n",
    "    pop_B *= 1.015\n",
    "    anos += 1\n",
    "    \n",
    "anos"
   ]
  },
  {
   "cell_type": "code",
   "execution_count": 11,
   "metadata": {},
   "outputs": [
    {
     "data": {
      "text/plain": [
       "500032.13864657056"
      ]
     },
     "execution_count": 11,
     "metadata": {},
     "output_type": "execute_result"
    }
   ],
   "source": [
    "1.03 ** 62 * 80000"
   ]
  },
  {
   "cell_type": "code",
   "execution_count": 12,
   "metadata": {},
   "outputs": [
    {
     "data": {
      "text/plain": [
       "503413.21868199005"
      ]
     },
     "execution_count": 12,
     "metadata": {},
     "output_type": "execute_result"
    }
   ],
   "source": [
    "1.015 ** 62 * 200000"
   ]
  },
  {
   "cell_type": "markdown",
   "metadata": {
    "colab_type": "text",
    "id": "4ep7kezvzStO"
   },
   "source": [
    "# Ex. 5\n",
    "\n",
    "**Desenvolva um gerador de tabuada, capaz de gerar a tabuada de qualquer número inteiro entre 1 a 10. O usuário deve informar de qual numero ele deseja ver a tabuada. A saída deve ser conforme o exemplo abaixo:**\n",
    "Tabuada de 5:<br>\n",
    "5 X 1 = 5<br>\n",
    "5 X 2 = 10<br>\n",
    "...<br>\n",
    "5 X 10 = 50<br>"
   ]
  },
  {
   "cell_type": "code",
   "execution_count": 19,
   "metadata": {
    "colab": {},
    "colab_type": "code",
    "id": "6K6IHWdr0Blt"
   },
   "outputs": [
    {
     "name": "stdin",
     "output_type": "stream",
     "text": [
      "Tabuada: 1000\n"
     ]
    },
    {
     "name": "stdout",
     "output_type": "stream",
     "text": [
      "1000 x 1 = 1000\n",
      "1000 x 2 = 2000\n",
      "1000 x 3 = 3000\n",
      "1000 x 4 = 4000\n",
      "1000 x 5 = 5000\n",
      "1000 x 6 = 6000\n",
      "1000 x 7 = 7000\n",
      "1000 x 8 = 8000\n",
      "1000 x 9 = 9000\n",
      "1000 x 10 = 10000\n"
     ]
    }
   ],
   "source": [
    "n = obter_int(\"Tabuada:\")\n",
    "for x in range(1,11):\n",
    "    print(f\"{n} x {x} = {n*x}\")"
   ]
  },
  {
   "cell_type": "markdown",
   "metadata": {
    "colab_type": "text",
    "id": "u6__NaXqzeYg"
   },
   "source": [
    "# Ex. 6\n",
    "\n",
    "**Crie um algoritmo em Python que leia três números e mostre o maior e o menor deles.**"
   ]
  },
  {
   "cell_type": "code",
   "execution_count": 20,
   "metadata": {
    "colab": {},
    "colab_type": "code",
    "id": "mm2L7g3x0Cfx"
   },
   "outputs": [
    {
     "name": "stdout",
     "output_type": "stream",
     "text": [
      "Digite 3 números\n",
      "\n",
      "\n"
     ]
    },
    {
     "name": "stdin",
     "output_type": "stream",
     "text": [
      "Número 1:  45\n",
      "Número 2:  122.3\n",
      "Número 3:  2\n"
     ]
    },
    {
     "name": "stdout",
     "output_type": "stream",
     "text": [
      "O maior número é 122.3\n"
     ]
    }
   ],
   "source": [
    "print(\"Digite 3 números\\n\\n\")\n",
    "\n",
    "numeros = []\n",
    "for n in range(1, 4):\n",
    "    valor = obter_float(f'Número {n}: ')\n",
    "    numeros.append(valor)   \n",
    "           \n",
    "print(f'O maior número é {max(numeros)} e o menor é {min(numeros)}' )"
   ]
  },
  {
   "cell_type": "markdown",
   "metadata": {
    "colab_type": "text",
    "id": "lIlfG-ATzgOr"
   },
   "source": [
    "# Ex. 7\n",
    "\n",
    "**Crie um algoritmo em Python que peça 2 números, base e expoente, calcule e mostre o primeiro número elevado ao segundo número. Não utilize a função de potência da linguagem.**"
   ]
  },
  {
   "cell_type": "code",
   "execution_count": 2,
   "metadata": {
    "colab": {},
    "colab_type": "code",
    "id": "-y4pB6br0DD_"
   },
   "outputs": [
    {
     "name": "stdin",
     "output_type": "stream",
     "text": [
      "Digite o número base:  2.5\n",
      "Digite o número expoente:  5\n"
     ]
    },
    {
     "name": "stdout",
     "output_type": "stream",
     "text": [
      "\n",
      "2.5 elevado a 5 é igual a 97.65625\n"
     ]
    }
   ],
   "source": [
    "base = obter_float(\"Digite o número base: \")\n",
    "expoente = obter_int(\"Digite o número expoente: \")\n",
    "                      \n",
    "num = 1\n",
    "for i in range(expoente):\n",
    "    num *= base\n",
    "\n",
    "print(f'\\n{base} elevado a {expoente} é igual a {num}')"
   ]
  },
  {
   "cell_type": "markdown",
   "metadata": {
    "colab_type": "text",
    "id": "Vj4OXsJQziu_"
   },
   "source": [
    "# Ex. 8\n",
    "\n",
    "**Crie um algoritmo em Python que peça 10 números inteiros, calcule e mostre a quantidade de números pares e a quantidade de números impares.**"
   ]
  },
  {
   "cell_type": "code",
   "execution_count": 8,
   "metadata": {
    "colab": {},
    "colab_type": "code",
    "id": "RmApGpg30D00"
   },
   "outputs": [
    {
     "name": "stdin",
     "output_type": "stream",
     "text": [
      "1º num. inteiro:  2342345\n",
      "2º num. inteiro:  62456\n",
      "3º num. inteiro:  435234\n",
      "4º num. inteiro:  2413\n",
      "5º num. inteiro:  35466\n",
      "6º num. inteiro:  6767657\n",
      "7º num. inteiro:  8654\n",
      "8º num. inteiro:  436\n",
      "9º num. inteiro:  346\n",
      "10º num. inteiro:  76\n"
     ]
    },
    {
     "name": "stdout",
     "output_type": "stream",
     "text": [
      "Entre os numeros [2342345, 62456, 435234, 2413, 35466, 6767657, 8654, 436, 346, 76], 7 são pares e 3 são ímpares\n"
     ]
    }
   ],
   "source": [
    "numeros = []\n",
    "par = 0\n",
    "impar = 0\n",
    "for n in range(1,11):\n",
    "    valor = obter_int(f'{n}º num. inteiro: ')\n",
    "    numeros.append(valor)\n",
    "    if (valor % 2 == 1):\n",
    "        impar += 1\n",
    "    else:\n",
    "        par += 1\n",
    "        \n",
    "print(f'Entre os numeros {numeros}, {par} são pares e {impar} são ímpares')        "
   ]
  },
  {
   "cell_type": "markdown",
   "metadata": {
    "colab_type": "text",
    "id": "e7id8Ewgzlow"
   },
   "source": [
    "# Ex. 9\n",
    "\n",
    "**Um funcionário de uma empresa recebe aumento salarial anualmente.** Sabe-se que:\n",
    "\n",
    "Esse funcionário foi contratado em 1995, com salário inicial de R$ 1.000,00;\n",
    "\n",
    "Em 1996 recebeu aumento de 1,5% sobre seu salário inicial;\n",
    "\n",
    "A partir de 1997 (inclusive), os aumentos salariais sempre correspondem ao dobro do percentual do ano anterior. Crie um algoritmo em Python que determine o salário atual desse funcionário. Após concluir isto, altere o programa permitindo que o usuário digite o salário inicial do funcionário."
   ]
  },
  {
   "cell_type": "code",
   "execution_count": 29,
   "metadata": {},
   "outputs": [
    {
     "name": "stdin",
     "output_type": "stream",
     "text": [
      "Salário inicial:  1000\n"
     ]
    },
    {
     "data": {
      "text/plain": [
       "'251.659.240,0'"
      ]
     },
     "execution_count": 29,
     "metadata": {},
     "output_type": "execute_result"
    }
   ],
   "source": [
    "# Solução matemática\n",
    "salario = obter_float('Salário inicial: ')\n",
    "salario = salario * ((1.5 * 2**(2020 - 1996))/100 + 1)\n",
    "\n",
    "# Mostra o salário final, com separador de milhar como ponto e de decimal com vírgula\n",
    "f'{salario:,}'.replace('.','_').replace(',','.').replace('_',',')"
   ]
  },
  {
   "cell_type": "markdown",
   "metadata": {
    "colab_type": "text",
    "id": "5u9i4kzm-itX"
   },
   "source": [
    "# Ex. 10\n",
    "\n",
    "**Crie um algoritmo em Python com uma função que necessite de um argumento. A função retorna o valor de caractere ‘P’, se seu argumento for positivo, e ‘N’, se seu argumento for zero ou negativo.**"
   ]
  },
  {
   "cell_type": "code",
   "execution_count": 34,
   "metadata": {
    "colab": {},
    "colab_type": "code",
    "id": "WNt8CLa2-rGt"
   },
   "outputs": [
    {
     "name": "stdin",
     "output_type": "stream",
     "text": [
      "Número:  000\n"
     ]
    },
    {
     "data": {
      "text/plain": [
       "'N'"
      ]
     },
     "execution_count": 34,
     "metadata": {},
     "output_type": "execute_result"
    }
   ],
   "source": [
    "def positivo_ou_negativo(num):\n",
    "    return 'P' if num > 0 else 'N'\n",
    "\n",
    "valor = obter_float('Número: ')\n",
    "positivo_ou_negativo(valor)"
   ]
  },
  {
   "cell_type": "markdown",
   "metadata": {
    "colab_type": "text",
    "id": "CHiYMSOJ-rSY"
   },
   "source": [
    "# Ex. 11\n",
    "\n",
    "**Construa uma função que receba uma data no formato DD/MM/AAAA e devolva uma string no formato D de mesPorExtenso de AAAA. Opcionalmente, valide a data e retorne NULL caso a data seja inválida.**"
   ]
  },
  {
   "cell_type": "code",
   "execution_count": 51,
   "metadata": {
    "colab": {},
    "colab_type": "code",
    "id": "6Ukxx6gQ-r4-"
   },
   "outputs": [
    {
     "name": "stdin",
     "output_type": "stream",
     "text": [
      "Entre uma data (DD/MM/AAAA) 25/05/2020\n"
     ]
    },
    {
     "data": {
      "text/plain": [
       "'25 de maio de 2020'"
      ]
     },
     "execution_count": 51,
     "metadata": {},
     "output_type": "execute_result"
    }
   ],
   "source": [
    "import re\n",
    "\n",
    "# Usa regex para validar o formato, mas extrai o dia, mês e ano por \"str slice\",\n",
    "# ao invés de usar o pacote \"datetime\"\n",
    "def data_por_extenso(data_str):   \n",
    "   \n",
    "    if not (isinstance(data_str, str)):\n",
    "        return None    \n",
    " \n",
    "    if len(data_str) != 10:        \n",
    "        return None    \n",
    "  \n",
    "    data = re.search(r'\\d{2}/\\d{2}/\\d{4}', data_str).group(0)  \n",
    "   \n",
    "    dia = int(data[:2])\n",
    "    mes = int(data[3:5])\n",
    "    ano = int(data[6:])\n",
    "    meses=('janeiro','fevereiro','mar','abril','maio','junho',\n",
    "           'julho','agosto','setembro','outubro','novembro','dezembro')\n",
    "    \n",
    "    \n",
    "    return f'{dia} de {meses[mes-1]} de {ano}'\n",
    "\n",
    "data = input('Entre uma data (DD/MM/AAAA)')\n",
    "data_por_extenso(data)"
   ]
  },
  {
   "cell_type": "markdown",
   "metadata": {
    "colab_type": "text",
    "id": "AzUYbZ8A-zj7"
   },
   "source": [
    "# Ex. 12\n",
    "\n",
    "**Crie uma classe que modele uma pessoa:**<br>\n",
    "\n",
    "Atributos: nome, idade, peso e altura<br>\n",
    "Métodos: Envelhercer, engordar, emagrecer, crescer.<br>\n",
    "<br>Obs: Por padrão, a cada ano que nossa pessoa envelhece, sendo a idade dela menor que 21 anos, ela deve crescer 0,5 cm."
   ]
  },
  {
   "cell_type": "code",
   "execution_count": 54,
   "metadata": {},
   "outputs": [
    {
     "data": {
      "text/plain": [
       "2"
      ]
     },
     "execution_count": 54,
     "metadata": {},
     "output_type": "execute_result"
    }
   ],
   "source": [
    "21 - 15 - 4"
   ]
  },
  {
   "cell_type": "code",
   "execution_count": 100,
   "metadata": {
    "colab": {},
    "colab_type": "code",
    "id": "qobhV-FC-zRS"
   },
   "outputs": [],
   "source": [
    "class Pessoa:\n",
    "    def __init__(self, nome: str, idade: int, peso: float, altura_em_cm: float):\n",
    "        self.nome = nome\n",
    "        self.idade = idade\n",
    "        self.peso = peso\n",
    "        self.altura_em_cm = altura_em_cm\n",
    "        \n",
    "    def envelhecer(self, anos = 1):                \n",
    "        self.idade += anos \n",
    "        anos_a_crescer = anos  \n",
    "        if self.idade > 20:\n",
    "            anos_a_crescer = anos - (self.idade - 20)\n",
    "            if anos_a_crescer < 0:\n",
    "                anos_a_crescer = 0      \n",
    "        self.altura_em_cm += anos_a_crescer * 0.5   \n",
    "        \n",
    "    def engordar(self, kg = 1):                \n",
    "        self.peso += kg \n",
    "        \n",
    "    def emagrecer(self, kg = 1):\n",
    "        self.peso -= kg\n",
    "        \n",
    "    def crescer(self, cm = 1):\n",
    "        self.altura_em_cm += cm\n",
    "        \n",
    "    def __str__(self):\n",
    "        return (f'Pessoa {self.nome}, tem {self.idade} anos, {self.peso} kg e ' \n",
    "                f'{self.altura_em_cm} cm de altura')\n",
    "    \n",
    "    def __repr__(self):    \n",
    "        return f'classe \"{self.__class__.__name__}\"({self.__dict__})'\n",
    "              "
   ]
  },
  {
   "cell_type": "code",
   "execution_count": 101,
   "metadata": {},
   "outputs": [
    {
     "data": {
      "text/plain": [
       "classe \"Pessoa\"({'nome': 'lf', 'idade': 21, 'peso': 80, 'altura_em_cm': 184.0})"
      ]
     },
     "execution_count": 101,
     "metadata": {},
     "output_type": "execute_result"
    }
   ],
   "source": [
    "p = Pessoa('lf', 18, 80, 183)\n",
    "p.envelhecer(3)\n",
    "p"
   ]
  },
  {
   "cell_type": "code",
   "execution_count": 102,
   "metadata": {},
   "outputs": [
    {
     "data": {
      "text/plain": [
       "184.5"
      ]
     },
     "execution_count": 102,
     "metadata": {},
     "output_type": "execute_result"
    }
   ],
   "source": [
    "p = Pessoa('lf', 15, 80, 183)\n",
    "p.envelhecer(3)\n",
    "p.altura_em_cm"
   ]
  },
  {
   "cell_type": "code",
   "execution_count": null,
   "metadata": {},
   "outputs": [],
   "source": []
  }
 ],
 "metadata": {
  "colab": {
   "name": "Fase3.ipynb",
   "provenance": []
  },
  "kernelspec": {
   "display_name": "Python 3",
   "language": "python",
   "name": "python3"
  },
  "language_info": {
   "codemirror_mode": {
    "name": "ipython",
    "version": 3
   },
   "file_extension": ".py",
   "mimetype": "text/x-python",
   "name": "python",
   "nbconvert_exporter": "python",
   "pygments_lexer": "ipython3",
   "version": "3.7.4"
  }
 },
 "nbformat": 4,
 "nbformat_minor": 4
}
