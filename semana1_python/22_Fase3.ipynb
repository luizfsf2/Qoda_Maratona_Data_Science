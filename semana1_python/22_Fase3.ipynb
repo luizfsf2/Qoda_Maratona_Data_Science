{
 "cells": [
  {
   "cell_type": "markdown",
   "metadata": {
    "colab_type": "text",
    "id": "CYNAmoj4zSXl"
   },
   "source": [
    "**Crie um algoritmo em Python que peça uma nota, entre zero e 100. Mostre uma mensagem caso o valor seja inválido e continue pedindo até que o usuário informe um valor válido.**"
   ]
  },
  {
   "cell_type": "code",
   "execution_count": 4,
   "metadata": {
    "colab": {},
    "colab_type": "code",
    "id": "ViAfpy3GzPN-"
   },
   "outputs": [
    {
     "name": "stdin",
     "output_type": "stream",
     "text": [
      "Nota (0-100):  a\n"
     ]
    },
    {
     "name": "stdout",
     "output_type": "stream",
     "text": [
      "Valor incorreto!\n",
      "\n"
     ]
    },
    {
     "name": "stdin",
     "output_type": "stream",
     "text": [
      "Nota (0-100):  1010\n"
     ]
    },
    {
     "name": "stdout",
     "output_type": "stream",
     "text": [
      "A nota deve estar entre 0 e 100\n",
      "\n"
     ]
    },
    {
     "name": "stdin",
     "output_type": "stream",
     "text": [
      "Nota (0-100):  53\n"
     ]
    },
    {
     "name": "stdout",
     "output_type": "stream",
     "text": [
      "Valor correto! (53)\n"
     ]
    }
   ],
   "source": [
    "while True:\n",
    "    try:\n",
    "        nota = int(input('Nota (0-100): '))\n",
    "        if 0 < nota < 100:\n",
    "            break\n",
    "        print('A nota deve estar entre 0 e 100\\n')\n",
    "       \n",
    "    except:\n",
    "        print('Valor incorreto!\\n')\n",
    "        \n",
    "print(f\"Valor correto! ({nota})\")        "
   ]
  },
  {
   "cell_type": "markdown",
   "metadata": {
    "colab_type": "text",
    "id": "gdMis92izSmQ"
   },
   "source": [
    "**Crie um algoritmo em Python que leia um nome de usuário e a sua senha e não aceite a senha igual ao nome do usuário, mostrando uma mensagem de erro e voltando a pedir as informações.**"
   ]
  },
  {
   "cell_type": "code",
   "execution_count": 6,
   "metadata": {
    "colab": {},
    "colab_type": "code",
    "id": "BFpWkdCBz_zh"
   },
   "outputs": [
    {
     "name": "stdin",
     "output_type": "stream",
     "text": [
      "Usuário:  luiz\n",
      "Senha:  luiz\n"
     ]
    },
    {
     "name": "stdout",
     "output_type": "stream",
     "text": [
      "O usuário deve ser diferente da senha.\n"
     ]
    },
    {
     "name": "stdin",
     "output_type": "stream",
     "text": [
      "Usuário:  luiz\n",
      "Senha:  senha\n"
     ]
    },
    {
     "name": "stdout",
     "output_type": "stream",
     "text": [
      "Cadastro efetuado com sucesso\n"
     ]
    }
   ],
   "source": [
    "login = {}\n",
    "\n",
    "while True:\n",
    "    login['usuario'] = input(\"Usuário: \")\n",
    "    login['senha'] = input(\"Senha: \")\n",
    "    if login['usuario'] != login['senha']:\n",
    "        break\n",
    "    print(\"O usuário deve ser diferente da senha.\\n\")\n",
    "    \n",
    "print('Cadastro efetuado com sucesso')        "
   ]
  },
  {
   "cell_type": "markdown",
   "metadata": {
    "colab_type": "text",
    "id": "E_0l_Vx6zSo2"
   },
   "source": [
    "**Crie um algoritmo em Python que leia e valide as seguintes informações:**\n",
    "* Nome: maior que 3 caracteres;\n",
    "* Idade: entre 0 e 150;\n",
    "* Salário: maior que zero;\n",
    "* Sexo: 'f' ou 'm';\n",
    "* Estado Civil: 's', 'c', 'v', 'd';"
   ]
  },
  {
   "cell_type": "code",
   "execution_count": null,
   "metadata": {
    "colab": {},
    "colab_type": "code",
    "id": "KwJf7XZS0AZW"
   },
   "outputs": [],
   "source": [
    "cadastro = {}\n",
    "\n",
    "while True:\n",
    "    nome = input(\"Nome: \")\n",
    "    if not nome.replace(' ', '').isalpha():\n",
    "        print('Apenas letras e espaços são aceitos\\n')\n",
    "        continue\n",
    "    \n",
    "    if len(nome) <= 3:        \n",
    "        print('Nome deve ter pelo menos 4 caracteres\\n')\n",
    "        continue\n",
    "        \n",
    "    cadastro['nome'] = nome    \n",
    "    break    \n",
    "\n",
    "    \n",
    "while True:\n",
    "    try:\n",
    "        idade = int(input(\"Idade (0-150): \"))       \n",
    "                \n",
    "    except:\n",
    "        print('Valor incorreto.\\n')    \n",
    "\n",
    "    else:\n",
    "        if not 0 <= idade <= 150:\n",
    "            print('Valor fora do intervalo.\\n')  \n",
    "            continue\n",
    "        cadastro['idade'] = idade\n",
    "        break\n",
    "        \n",
    "        \n",
    "while True:\n",
    "    try:\n",
    "        salario = float(input(\"Salário: \"))       \n",
    "                \n",
    "    except:\n",
    "        print('Valor incorreto.\\n')    \n",
    "\n",
    "    else:\n",
    "        if salario < 0:\n",
    "            print('Não existe salário negativo!\\n')  \n",
    "            continue\n",
    "            \n",
    "        cadastro['salario'] = salario\n",
    "        break\n",
    "        \n",
    "        \n",
    "while True:\n",
    "    try:\n",
    "        sexo = input(\"Sexo(m/f): \")       \n",
    "                \n",
    "    except:\n",
    "        print('Valor incorreto.\\n')    \n",
    "\n",
    "    else:\n",
    "        if not sexo in ['mf'] or len(sexo) != 1:\n",
    "            print('Valor inválido!\\nEscolha \"m\" ou \"f\"\\n')  \n",
    "            continue\n",
    "            \n",
    "        cadastro['sexo'] = sexo\n",
    "        break\n",
    "            \n",
    "while True:\n",
    "    try:\n",
    "        estado_civil = input(\"Estado civil((s)olteiro(a), (c)asado(a), (v)iúvo(a),(d)ivorciado(a) ):\\n\")       \n",
    "                \n",
    "    except:\n",
    "        print('Valor incorreto.\\n')    \n",
    "\n",
    "    else:\n",
    "        if not sexo.lower() in ['scvd'] or len(sexo) != 1:\n",
    "            print('Valor inválido!\\nEscolha:' +  \n",
    "                  '  (s)olteiro(a)\\n  (c)asado(a)\\n  (v)iúvo(a)\\n  (d)ivorciado(a)\\n')  \n",
    "            continue\n",
    "            \n",
    "        cadastro['estado_civil'] = estado_civil\n",
    "        break            "
   ]
  },
  {
   "cell_type": "markdown",
   "metadata": {
    "colab_type": "text",
    "id": "1i4VCiiczSrL"
   },
   "source": [
    "**Supondo que a população de um país A seja da ordem de 80000 habitantes com uma taxa anual de crescimento de 3% e que a população de B seja 200000 habitantes com uma taxa de crescimento de 1.5%.**\n",
    "\n",
    "Crie um algoritmo em Python que calcule e escreva o número de anos necessários para que a população do país A ultrapasse ou iguale a população do país B, mantidas as taxas de crescimento."
   ]
  },
  {
   "cell_type": "code",
   "execution_count": null,
   "metadata": {
    "colab": {},
    "colab_type": "code",
    "id": "yoW67hjA0BHy"
   },
   "outputs": [],
   "source": [
    "# INSIRA SEU CÓDIGO AQUI"
   ]
  },
  {
   "cell_type": "markdown",
   "metadata": {
    "colab_type": "text",
    "id": "4ep7kezvzStO"
   },
   "source": [
    "**Desenvolva um gerador de tabuada, capaz de gerar a tabuada de qualquer número inteiro entre 1 a 10. O usuário deve informar de qual numero ele deseja ver a tabuada. A saída deve ser conforme o exemplo abaixo:**\n",
    "Tabuada de 5:<br>\n",
    "5 X 1 = 5<br>\n",
    "5 X 2 = 10<br>\n",
    "...<br>\n",
    "5 X 10 = 50<br>"
   ]
  },
  {
   "cell_type": "code",
   "execution_count": null,
   "metadata": {
    "colab": {},
    "colab_type": "code",
    "id": "6K6IHWdr0Blt"
   },
   "outputs": [],
   "source": [
    "# INSIRA SEU CÓDIGO AQUI"
   ]
  },
  {
   "cell_type": "markdown",
   "metadata": {
    "colab_type": "text",
    "id": "u6__NaXqzeYg"
   },
   "source": [
    "**Crie um algoritmo em Python que leia três números e mostre o maior e o menor deles.**"
   ]
  },
  {
   "cell_type": "code",
   "execution_count": null,
   "metadata": {
    "colab": {},
    "colab_type": "code",
    "id": "mm2L7g3x0Cfx"
   },
   "outputs": [],
   "source": [
    "# INSIRA SEU CÓDIGO AQUI"
   ]
  },
  {
   "cell_type": "markdown",
   "metadata": {
    "colab_type": "text",
    "id": "lIlfG-ATzgOr"
   },
   "source": [
    "**Crie um algoritmo em Python que peça 2 números, base e expoente, calcule e mostre o primeiro número elevado ao segundo número. Não utilize a função de potência da linguagem.**"
   ]
  },
  {
   "cell_type": "code",
   "execution_count": null,
   "metadata": {
    "colab": {},
    "colab_type": "code",
    "id": "-y4pB6br0DD_"
   },
   "outputs": [],
   "source": [
    "# INSIRA SEU CÓDIGO AQUI"
   ]
  },
  {
   "cell_type": "markdown",
   "metadata": {
    "colab_type": "text",
    "id": "Vj4OXsJQziu_"
   },
   "source": [
    "**Crie um algoritmo em Python que peça 10 números inteiros, calcule e mostre a quantidade de números pares e a quantidade de números impares.**"
   ]
  },
  {
   "cell_type": "code",
   "execution_count": null,
   "metadata": {
    "colab": {},
    "colab_type": "code",
    "id": "RmApGpg30D00"
   },
   "outputs": [],
   "source": [
    "# INSIRA SEU CÓDIGO AQUI"
   ]
  },
  {
   "cell_type": "markdown",
   "metadata": {
    "colab_type": "text",
    "id": "e7id8Ewgzlow"
   },
   "source": [
    "**Um funcionário de uma empresa recebe aumento salarial anualmente.** Sabe-se que:\n",
    "Esse funcionário foi contratado em 1995, com salário inicial de R$ 1.000,00;\n",
    "Em 1996 recebeu aumento de 1,5% sobre seu salário inicial;\n",
    "A partir de 1997 (inclusive), os aumentos salariais sempre correspondem ao dobro do percentual do ano anterior. Crie um algoritmo em Python que determine o salário atual desse funcionário. Após concluir isto, altere o programa permitindo que o usuário digite o salário inicial do funcionário."
   ]
  },
  {
   "cell_type": "code",
   "execution_count": null,
   "metadata": {
    "colab": {},
    "colab_type": "code",
    "id": "Kl0ainsv0Eif"
   },
   "outputs": [],
   "source": [
    "# INSIRA SEU CÓDIGO AQUI"
   ]
  },
  {
   "cell_type": "markdown",
   "metadata": {
    "colab_type": "text",
    "id": "5u9i4kzm-itX"
   },
   "source": [
    "**Crie um algoritmo em Python com uma função que necessite de um argumento. A função retorna o valor de caractere ‘P’, se seu argumento for positivo, e ‘N’, se seu argumento for zero ou negativo.**"
   ]
  },
  {
   "cell_type": "code",
   "execution_count": null,
   "metadata": {
    "colab": {},
    "colab_type": "code",
    "id": "WNt8CLa2-rGt"
   },
   "outputs": [],
   "source": [
    "# INSIRA SEU CÓDIGO AQUI"
   ]
  },
  {
   "cell_type": "markdown",
   "metadata": {
    "colab_type": "text",
    "id": "CHiYMSOJ-rSY"
   },
   "source": [
    "**Construa uma função que receba uma data no formato DD/MM/AAAA e devolva uma string no formato D de mesPorExtenso de AAAA. Opcionalmente, valide a data e retorne NULL caso a data seja inválida.**"
   ]
  },
  {
   "cell_type": "code",
   "execution_count": null,
   "metadata": {
    "colab": {},
    "colab_type": "code",
    "id": "6Ukxx6gQ-r4-"
   },
   "outputs": [],
   "source": [
    "# INSIRA SEU CÓDIGO AQUI"
   ]
  },
  {
   "cell_type": "markdown",
   "metadata": {
    "colab_type": "text",
    "id": "AzUYbZ8A-zj7"
   },
   "source": [
    "**Crie uma classe que modele uma pessoa:**<br>\n",
    "\n",
    "Atributos: nome, idade, peso e altura<br>\n",
    "Métodos: Envelhercer, engordar, emagrecer, crescer.<br>\n",
    "<br>Obs: Por padrão, a cada ano que nossa pessoa envelhece, sendo a idade dela menor que 21 anos, ela deve crescer 0,5 cm."
   ]
  },
  {
   "cell_type": "code",
   "execution_count": null,
   "metadata": {
    "colab": {},
    "colab_type": "code",
    "id": "qobhV-FC-zRS"
   },
   "outputs": [],
   "source": [
    "# INSIRA SEU CÓDIGO AQUI"
   ]
  }
 ],
 "metadata": {
  "colab": {
   "name": "Fase3.ipynb",
   "provenance": []
  },
  "kernelspec": {
   "display_name": "Python 3",
   "language": "python",
   "name": "python3"
  },
  "language_info": {
   "codemirror_mode": {
    "name": "ipython",
    "version": 3
   },
   "file_extension": ".py",
   "mimetype": "text/x-python",
   "name": "python",
   "nbconvert_exporter": "python",
   "pygments_lexer": "ipython3",
   "version": "3.7.4"
  }
 },
 "nbformat": 4,
 "nbformat_minor": 4
}
