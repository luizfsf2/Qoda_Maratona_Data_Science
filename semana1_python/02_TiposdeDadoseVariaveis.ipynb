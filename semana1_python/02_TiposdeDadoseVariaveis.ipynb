{
 "cells": [
  {
   "cell_type": "markdown",
   "metadata": {
    "colab_type": "text",
    "id": "tnTiGqQOWih2"
   },
   "source": [
    "# **Variáveis**\n",
    "\n",
    "---\n",
    "<br>Utilize o símbolo \" = \" para declarar variáveis em Python"
   ]
  },
  {
   "cell_type": "markdown",
   "metadata": {
    "colab_type": "text",
    "id": "wQyf6BjWUzAs"
   },
   "source": [
    "# **Tipos de Dados**\n",
    "\n",
    "---"
   ]
  },
  {
   "cell_type": "code",
   "execution_count": 1,
   "metadata": {
    "colab": {},
    "colab_type": "code",
    "id": "grV-TUhIUpym"
   },
   "outputs": [
    {
     "name": "stdout",
     "output_type": "stream",
     "text": [
      "<class 'int'>\n"
     ]
    }
   ],
   "source": [
    "# INTEIRO\n",
    "a = 1\n",
    "print(type(a))"
   ]
  },
  {
   "cell_type": "code",
   "execution_count": 2,
   "metadata": {
    "colab": {},
    "colab_type": "code",
    "id": "09IdrzFGVCSX"
   },
   "outputs": [
    {
     "name": "stdout",
     "output_type": "stream",
     "text": [
      "<class 'float'>\n"
     ]
    }
   ],
   "source": [
    "# FLOATING\n",
    "b = 3.14\n",
    "print(type(b))"
   ]
  },
  {
   "cell_type": "code",
   "execution_count": 3,
   "metadata": {
    "colab": {},
    "colab_type": "code",
    "id": "DkLGTcovVKfT"
   },
   "outputs": [
    {
     "name": "stdout",
     "output_type": "stream",
     "text": [
      "<class 'str'>\n"
     ]
    }
   ],
   "source": [
    "# STRING\n",
    "c = \"Python\"\n",
    "print(type(c))"
   ]
  },
  {
   "cell_type": "code",
   "execution_count": 4,
   "metadata": {
    "colab": {},
    "colab_type": "code",
    "id": "vKjekNh2VSC1"
   },
   "outputs": [
    {
     "name": "stdout",
     "output_type": "stream",
     "text": [
      "<class 'bool'>\n"
     ]
    }
   ],
   "source": [
    "# BOOLEANOS\n",
    "d = True\n",
    "print(type(d))"
   ]
  },
  {
   "cell_type": "markdown",
   "metadata": {
    "colab_type": "text",
    "id": "AJufuqlPVZTP"
   },
   "source": [
    "## **Convertendo os tipos**\n",
    "\n",
    "---"
   ]
  },
  {
   "cell_type": "code",
   "execution_count": 5,
   "metadata": {
    "colab": {},
    "colab_type": "code",
    "id": "CAgbi9NmVXS_"
   },
   "outputs": [
    {
     "name": "stdout",
     "output_type": "stream",
     "text": [
      "3 <class 'int'>\n"
     ]
    }
   ],
   "source": [
    "e = int(b)\n",
    "print(e, type(e))"
   ]
  },
  {
   "cell_type": "code",
   "execution_count": 6,
   "metadata": {
    "colab": {},
    "colab_type": "code",
    "id": "m95m5DuLVwIn"
   },
   "outputs": [
    {
     "name": "stdout",
     "output_type": "stream",
     "text": [
      "1.0 <class 'float'>\n"
     ]
    }
   ],
   "source": [
    "f = float(a)\n",
    "print(f, type(f))"
   ]
  },
  {
   "cell_type": "code",
   "execution_count": 7,
   "metadata": {
    "colab": {},
    "colab_type": "code",
    "id": "ZDIeegUXV22S"
   },
   "outputs": [
    {
     "name": "stdout",
     "output_type": "stream",
     "text": [
      "1 <class 'str'>\n"
     ]
    }
   ],
   "source": [
    "g = str(a)\n",
    "print(g, type(g))"
   ]
  },
  {
   "cell_type": "markdown",
   "metadata": {
    "colab_type": "text",
    "id": "DHdhVNFEWAF0"
   },
   "source": [
    "## **Comentários**\n",
    "\n",
    "---"
   ]
  },
  {
   "cell_type": "code",
   "execution_count": 8,
   "metadata": {
    "colab": {},
    "colab_type": "code",
    "id": "E4v3YfI2WDaC"
   },
   "outputs": [],
   "source": [
    "# Após hashtag, todo conteúdo da linha torna-se desabilitado para execução;"
   ]
  },
  {
   "cell_type": "code",
   "execution_count": 9,
   "metadata": {
    "colab": {},
    "colab_type": "code",
    "id": "PcJXn1PgWQZu"
   },
   "outputs": [
    {
     "data": {
      "text/plain": [
       "'\\nCaso prefira mais espaço para comentar, \\nutilize 3 aspas, \\ntendo todo o conteúdo entre as aspas comentado e\\nnão executado pela máquina;\\n'"
      ]
     },
     "execution_count": 9,
     "metadata": {},
     "output_type": "execute_result"
    }
   ],
   "source": [
    "'''\n",
    "Caso prefira mais espaço para comentar, \n",
    "utilize 3 aspas, \n",
    "tendo todo o conteúdo entre as aspas comentado e\n",
    "não executado pela máquina;\n",
    "'''"
   ]
  },
  {
   "cell_type": "markdown",
   "metadata": {
    "colab_type": "text",
    "id": "xIEmK2y0Jz8p"
   },
   "source": [
    "# **>>> Exercícios**\n",
    "\n",
    "---\n",
    "\n",
    "1.   Crie uma variável que contenha o ano de seu nascimento(int);\n",
    "2.   Crie uma nova variável com a frase \"Nasci em \"(str);\n",
    "3.   Crie uma terceira variável que receba a soma destas 2 variáveis e printe como saida a frase completa(str);\n",
    "<br><br>**dica:** pode ser necessário converter o tipo das variáveis.\n",
    "\n"
   ]
  },
  {
   "cell_type": "code",
   "execution_count": 12,
   "metadata": {
    "colab": {},
    "colab_type": "code",
    "id": "ugwOXtHhKnQF"
   },
   "outputs": [
    {
     "data": {
      "text/plain": [
       "'Nasci em 1984'"
      ]
     },
     "execution_count": 12,
     "metadata": {},
     "output_type": "execute_result"
    }
   ],
   "source": [
    "# Insira seu código aqui\n",
    "ano = 1984\n",
    "frase = 'Nasci em '\n",
    "x = frase + str(ano)\n",
    "x"
   ]
  },
  {
   "cell_type": "markdown",
   "metadata": {
    "colab_type": "text",
    "id": "xsniShkDKpMy"
   },
   "source": [
    "## **>>> Solução**\n",
    "\n",
    "---\n",
    "\n",
    "Clique abaixo para visualizar a solução"
   ]
  },
  {
   "cell_type": "code",
   "execution_count": null,
   "metadata": {
    "colab": {},
    "colab_type": "code",
    "id": "6DlOTnwkK7uq"
   },
   "outputs": [],
   "source": [
    "ano = 1992\n",
    "frase = \"Nasci em \"\n",
    "x = (frase+str(ano))\n",
    "print(x)"
   ]
  }
 ],
 "metadata": {
  "accelerator": "GPU",
  "colab": {
   "collapsed_sections": [
    "xsniShkDKpMy"
   ],
   "name": "TiposdeDadoseVariaveis.ipynb",
   "private_outputs": true,
   "provenance": []
  },
  "kernelspec": {
   "display_name": "Python 3",
   "language": "python",
   "name": "python3"
  },
  "language_info": {
   "codemirror_mode": {
    "name": "ipython",
    "version": 3
   },
   "file_extension": ".py",
   "mimetype": "text/x-python",
   "name": "python",
   "nbconvert_exporter": "python",
   "pygments_lexer": "ipython3",
   "version": "3.7.4"
  }
 },
 "nbformat": 4,
 "nbformat_minor": 4
}
