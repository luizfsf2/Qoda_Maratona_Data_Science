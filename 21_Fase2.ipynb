{
 "cells": [
  {
   "cell_type": "markdown",
   "metadata": {
    "colab_type": "text",
    "id": "CYNAmoj4zSXl"
   },
   "source": [
    "**Crie um algoritmo em Python que peça 2 números e imprima o maior deles.**"
   ]
  },
  {
   "cell_type": "code",
   "execution_count": 1,
   "metadata": {},
   "outputs": [],
   "source": [
    "def pedir_float(texto):\n",
    "    while True:\n",
    "        try:    \n",
    "            return float(input(texto))\n",
    "        except ValueError:  \n",
    "            print('Não é um número!')"
   ]
  },
  {
   "cell_type": "code",
   "execution_count": 2,
   "metadata": {
    "colab": {},
    "colab_type": "code",
    "id": "ViAfpy3GzPN-"
   },
   "outputs": [
    {
     "name": "stdin",
     "output_type": "stream",
     "text": [
      "1º número:  s\n"
     ]
    },
    {
     "name": "stdout",
     "output_type": "stream",
     "text": [
      "Não é um número!\n"
     ]
    },
    {
     "name": "stdin",
     "output_type": "stream",
     "text": [
      "1º número:  15.8\n",
      "2º número:  13.5\n"
     ]
    },
    {
     "name": "stdout",
     "output_type": "stream",
     "text": [
      "15.8 é maior\n"
     ]
    }
   ],
   "source": [
    "n1 = pedir_float('1º número: ')\n",
    "n2 = pedir_float('2º número: ')\n",
    "n = max((n1,n2))\n",
    "print(f'{n} é maior')    "
   ]
  },
  {
   "cell_type": "markdown",
   "metadata": {
    "colab_type": "text",
    "id": "gdMis92izSmQ"
   },
   "source": [
    "**Crie um algoritmo em Python que peça um valor e mostre na tela se o valor é positivo ou negativo.**"
   ]
  },
  {
   "cell_type": "code",
   "execution_count": 3,
   "metadata": {
    "colab": {},
    "colab_type": "code",
    "id": "BFpWkdCBz_zh"
   },
   "outputs": [
    {
     "name": "stdin",
     "output_type": "stream",
     "text": [
      "Digite um número:  s\n"
     ]
    },
    {
     "name": "stdout",
     "output_type": "stream",
     "text": [
      "Não é um número!\n"
     ]
    },
    {
     "name": "stdin",
     "output_type": "stream",
     "text": [
      "Digite um número:  -854\n"
     ]
    },
    {
     "name": "stdout",
     "output_type": "stream",
     "text": [
      "O número é negativo\n"
     ]
    }
   ],
   "source": [
    "valor = pedir_float('Digite um número: ')\n",
    "sinal = 'positivo' if valor >= 0 else 'negativo'\n",
    "print('O número é ' + sinal)"
   ]
  },
  {
   "cell_type": "markdown",
   "metadata": {
    "colab_type": "text",
    "id": "E_0l_Vx6zSo2"
   },
   "source": [
    "**Crie um algoritmo em Python que verifique se uma letra digitada é vogal ou consoante.**"
   ]
  },
  {
   "cell_type": "code",
   "execution_count": 11,
   "metadata": {
    "colab": {},
    "colab_type": "code",
    "id": "KwJf7XZS0AZW"
   },
   "outputs": [
    {
     "name": "stdin",
     "output_type": "stream",
     "text": [
      "Digite uma letra:  5\n"
     ]
    },
    {
     "name": "stdout",
     "output_type": "stream",
     "text": [
      "Só uma letrinha!\n",
      "\n"
     ]
    },
    {
     "name": "stdin",
     "output_type": "stream",
     "text": [
      "Digite uma letra:  -\n"
     ]
    },
    {
     "name": "stdout",
     "output_type": "stream",
     "text": [
      "Só uma letrinha!\n",
      "\n"
     ]
    },
    {
     "name": "stdin",
     "output_type": "stream",
     "text": [
      "Digite uma letra:  dsd\n"
     ]
    },
    {
     "name": "stdout",
     "output_type": "stream",
     "text": [
      "Só uma letrinha!\n",
      "\n"
     ]
    },
    {
     "name": "stdin",
     "output_type": "stream",
     "text": [
      "Digite uma letra:  i\n"
     ]
    },
    {
     "name": "stdout",
     "output_type": "stream",
     "text": [
      "\n",
      "\n",
      "A letra i é uma vogal\n"
     ]
    }
   ],
   "source": [
    "letra = ''\n",
    "while True:      \n",
    "    letra = input('Digite uma letra: ')\n",
    "    if letra.isalpha() and len(letra) == 1:\n",
    "        break\n",
    "    print('Só uma letrinha!\\n')\n",
    "\n",
    "resposta = 'consoante'    \n",
    "if letra.lower() in 'aeiou':\n",
    "    resposta = 'vogal'\n",
    "    \n",
    "print(f'\\n\\nA letra {letra} é uma {resposta}')    "
   ]
  },
  {
   "cell_type": "markdown",
   "metadata": {
    "colab_type": "text",
    "id": "1i4VCiiczSrL"
   },
   "source": [
    "**Faça um programa para a leitura de duas notas parciais de um aluno. O programa deve calcular a média alcançada por aluno e apresentar:**\n",
    "* \"Aprovado\", se a média alcançada for maior ou igual a sete;\n",
    "* \"Reprovado\", se a média for menor do que sete;\n",
    "* \"Aprovado com Distinção\", se a média for igual a 10."
   ]
  },
  {
   "cell_type": "code",
   "execution_count": 14,
   "metadata": {
    "colab": {},
    "colab_type": "code",
    "id": "yoW67hjA0BHy"
   },
   "outputs": [
    {
     "name": "stdout",
     "output_type": "stream",
     "text": [
      "Calculador de médias\n",
      "\n",
      "\n",
      "Insira as notas das 2 provas.\n",
      "\n",
      "\n"
     ]
    },
    {
     "name": "stdin",
     "output_type": "stream",
     "text": [
      "Nota 1º bimestre:  5\n",
      "Nota 2º bimestre:  8\n"
     ]
    },
    {
     "name": "stdout",
     "output_type": "stream",
     "text": [
      "A média das notas 5.0 e 8.0 é 6.5 e o aluno está Reprovado.\n"
     ]
    }
   ],
   "source": [
    "print('Calculador de médias\\n\\n')\n",
    "print('Insira as notas das 2 provas.\\n\\n')\n",
    "notas = []\n",
    "for i in range(1,3):\n",
    "    notas.append(pedir_float(f'Nota {i}º bimestre: '))\n",
    "            \n",
    "media = sum(notas)/len(notas)\n",
    "aprovacao = 'Reprovado'\n",
    "if media >= 7: \n",
    "    if media == 10:\n",
    "        aprovacao = 'Aprovado com Distinção'\n",
    "    else:\n",
    "        aprovacao = 'Aprovado'\n",
    "    \n",
    "notas_txt =  f'{notas[0]} e {notas[1]}'                  \n",
    "print(f'A média das notas {notas_txt} é {media:.1f} e o aluno está {aprovacao}.') "
   ]
  },
  {
   "cell_type": "markdown",
   "metadata": {
    "colab_type": "text",
    "id": "4ep7kezvzStO"
   },
   "source": [
    "Crie um algoritmo em Python que leia três números e mostre o maior deles."
   ]
  },
  {
   "cell_type": "code",
   "execution_count": null,
   "metadata": {
    "colab": {},
    "colab_type": "code",
    "id": "6K6IHWdr0Blt"
   },
   "outputs": [],
   "source": [
    "# INSIRA SEU CÓDIGO AQUI"
   ]
  },
  {
   "cell_type": "markdown",
   "metadata": {
    "colab_type": "text",
    "id": "u6__NaXqzeYg"
   },
   "source": [
    "Crie um algoritmo em Python que leia três números e mostre o maior e o menor deles."
   ]
  },
  {
   "cell_type": "code",
   "execution_count": null,
   "metadata": {
    "colab": {},
    "colab_type": "code",
    "id": "mm2L7g3x0Cfx"
   },
   "outputs": [],
   "source": [
    "# INSIRA SEU CÓDIGO AQUI"
   ]
  },
  {
   "cell_type": "markdown",
   "metadata": {
    "colab_type": "text",
    "id": "lIlfG-ATzgOr"
   },
   "source": [
    "Faça um programa que pergunte o preço de 5 produtos e informe qual produto você deve comprar, sabendo que a decisão é sempre pelo mais barato."
   ]
  },
  {
   "cell_type": "code",
   "execution_count": null,
   "metadata": {
    "colab": {},
    "colab_type": "code",
    "id": "-y4pB6br0DD_"
   },
   "outputs": [],
   "source": [
    "# INSIRA SEU CÓDIGO AQUI"
   ]
  },
  {
   "cell_type": "markdown",
   "metadata": {
    "colab_type": "text",
    "id": "Vj4OXsJQziu_"
   },
   "source": [
    "Crie um algoritmo em Python que leia três números e mostre-os em ordem decrescente."
   ]
  },
  {
   "cell_type": "code",
   "execution_count": null,
   "metadata": {
    "colab": {},
    "colab_type": "code",
    "id": "RmApGpg30D00"
   },
   "outputs": [],
   "source": [
    "# INSIRA SEU CÓDIGO AQUI"
   ]
  },
  {
   "cell_type": "markdown",
   "metadata": {
    "colab_type": "text",
    "id": "e7id8Ewgzlow"
   },
   "source": [
    "As Organizações Mendéz resolveram dar um aumento de salário aos seus colaboradores e lhe contraram para desenvolver o programa que calculará os reajustes em Python. Faça um programa que receba o salário de um colaborador e o reajuste segundo o seguinte critério, baseado no salário atual:\n",
    "\n",
    "* salários entre 680,00 e 800,00 : aumento de 15%<br>\n",
    "* salários entre 800,00 e 2500,00 : aumento de 10%<br>\n",
    "* salários de 2500,00 em diante : aumento de 5% após o aumento ser realizado.\n",
    "\n",
    "Informe na tela:\n",
    "* o salário antes do reajuste;\n",
    "* o percentual de aumento aplicado;\n",
    "* o valor do aumento;\n",
    "* o novo salário, após o aumento."
   ]
  },
  {
   "cell_type": "code",
   "execution_count": null,
   "metadata": {
    "colab": {},
    "colab_type": "code",
    "id": "Kl0ainsv0Eif"
   },
   "outputs": [],
   "source": [
    "# INSIRA SEU CÓDIGO AQUI"
   ]
  }
 ],
 "metadata": {
  "colab": {
   "name": "Fase2.ipynb",
   "provenance": []
  },
  "kernelspec": {
   "display_name": "Python 3",
   "language": "python",
   "name": "python3"
  },
  "language_info": {
   "codemirror_mode": {
    "name": "ipython",
    "version": 3
   },
   "file_extension": ".py",
   "mimetype": "text/x-python",
   "name": "python",
   "nbconvert_exporter": "python",
   "pygments_lexer": "ipython3",
   "version": "3.7.4"
  }
 },
 "nbformat": 4,
 "nbformat_minor": 4
}
